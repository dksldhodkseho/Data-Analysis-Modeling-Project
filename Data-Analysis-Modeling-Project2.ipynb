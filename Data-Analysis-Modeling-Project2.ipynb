{
  "cells": [
    {
      "cell_type": "markdown",
      "metadata": {
        "id": "NbI_RoQ9AP5r"
      },
      "source": [
        "#**스마트폰 센서 데이터 기반 모션 분류**\n",
        "# 단계2 : 기본 모델링\n"
      ]
    },
    {
      "cell_type": "markdown",
      "metadata": {
        "id": "D67PlTu4JGAY"
      },
      "source": [
        "## 0.미션3"
      ]
    },
    {
      "cell_type": "markdown",
      "metadata": {
        "id": "ubUjMgXEzTUv"
      },
      "source": [
        "* 데이터 전처리\n",
        "    * 가변수화, 데이터 분할, NaN 확인 및 조치, 스케일링 등 필요한 전처리 수행\n",
        "* 다양한 딥러닝 구조의 모델로 분류 모델 생성\n",
        "    * 최소 4개 이상 모델링 수행\n",
        "    * 각 모델별 최소 5회 반복수행해서 얻은 성능의 평균으로 비교\n",
        "    * 각 모델의 성능을 저장하는 별도 데이터 프레임을 만들고 비교\n",
        "* 옵션 : 다음 사항은 선택사항입니다. 시간이 허용하는 범위 내에서 수행하세요.\n",
        "    * 상위 N개 변수를 선정하여 모델링 및 성능 비교\n",
        "        * 모델링에 항상 모든 변수가 필요한 것은 아닙니다.\n",
        "        * 변수 중요도 상위 N개를 선정하여 모델링하고 타 모델과 성능을 비교하세요.\n",
        "        * 상위 N개를 선택하는 방법은, 변수를 하나씩 늘려가며 모델링 및 성능 검증을 수행하여 적절한 지점을 찾는 것입니다.\n",
        "* 성능 가이드\n",
        "    * Accuracy : 0.90 ~ 0.99"
      ]
    },
    {
      "cell_type": "markdown",
      "metadata": {
        "id": "a2oWtdJPzTUy"
      },
      "source": [
        "## 1.환경설정"
      ]
    },
    {
      "cell_type": "markdown",
      "metadata": {
        "id": "OUF6xQFZzTUz"
      },
      "source": [
        "* 세부 요구사항\n",
        "    - 경로 설정 : 구글콜랩\n",
        "        * 구글 드라이브 바로 밑에 project3 폴더를 만들고,\n",
        "        * 데이터 파일을 복사해 넣습니다.\n",
        "    - 기본적으로 필요한 라이브러리를 import 하도록 코드가 작성되어 있습니다.\n",
        "        * 필요하다고 판단되는 라이브러리를 추가하세요.\n"
      ]
    },
    {
      "cell_type": "markdown",
      "metadata": {
        "id": "4bg7tWxSzTU0"
      },
      "source": [
        "### (1) 경로 설정"
      ]
    },
    {
      "cell_type": "markdown",
      "metadata": {
        "id": "o86e1aHRzTU0"
      },
      "source": [
        "* 구글 드라이브 연결"
      ]
    },
    {
      "cell_type": "code",
      "execution_count": null,
      "metadata": {
        "id": "9G0Si0qDzTU0",
        "colab": {
          "base_uri": "https://localhost:8080/"
        },
        "outputId": "0beeb604-7a44-46ac-8868-6525f3b61dd2"
      },
      "outputs": [
        {
          "output_type": "stream",
          "name": "stdout",
          "text": [
            "Drive already mounted at /content/drive; to attempt to forcibly remount, call drive.mount(\"/content/drive\", force_remount=True).\n"
          ]
        }
      ],
      "source": [
        "from google.colab import drive\n",
        "drive.mount('/content/drive')"
      ]
    },
    {
      "cell_type": "code",
      "execution_count": null,
      "metadata": {
        "id": "5i7K-4UGzTU3"
      },
      "outputs": [],
      "source": [
        "path = '/content/drive/MyDrive/AIVLE/AI_미니프로젝트 1차_실습자료'"
      ]
    },
    {
      "cell_type": "markdown",
      "metadata": {
        "id": "0Xnr5atSzTU4"
      },
      "source": [
        "### (2) 라이브러리 불러오기"
      ]
    },
    {
      "cell_type": "markdown",
      "metadata": {
        "id": "waGFA7e9zTU4"
      },
      "source": [
        "* 라이브러리 로딩\n",
        "     - pandas, numpy,matplotlib,seaborn, joblib, 모델링에 필요한 라이브러리를 로딩합니다."
      ]
    },
    {
      "cell_type": "code",
      "execution_count": null,
      "metadata": {
        "id": "cuVV49MizTU5"
      },
      "outputs": [],
      "source": [
        "import pandas as pd\n",
        "import numpy as np\n",
        "import matplotlib.pyplot as plt\n",
        "import seaborn as sns\n",
        "\n",
        "import joblib\n",
        "from tqdm import tqdm\n",
        "\n",
        "from sklearn.model_selection import train_test_split\n",
        "from sklearn.preprocessing import MinMaxScaler, LabelEncoder\n",
        "from sklearn.metrics import *\n",
        "\n",
        "from keras.models import Sequential\n",
        "from keras.layers import Dense, Flatten, Dropout, Input\n",
        "from keras.backend import clear_session\n",
        "from keras.optimizers import Adam"
      ]
    },
    {
      "cell_type": "code",
      "source": [
        "import torch\n",
        "from torch import nn\n",
        "from torch.utils.data import DataLoader, TensorDataset\n",
        "from torch.optim import Adam"
      ],
      "metadata": {
        "id": "WjFCYhm-g87N"
      },
      "execution_count": null,
      "outputs": []
    },
    {
      "cell_type": "code",
      "execution_count": null,
      "metadata": {
        "id": "3c4JgiEbNKfo"
      },
      "outputs": [],
      "source": [
        "# 학습곡선 함수\n",
        "def dl_history_plot(history):\n",
        "    plt.figure(figsize=(10,6))\n",
        "    plt.plot(history['loss'], label='train_err', marker = '.')\n",
        "    plt.plot(history['val_loss'], label='val_err', marker = '.')\n",
        "\n",
        "    plt.ylabel('Loss')\n",
        "    plt.xlabel('Epoch')\n",
        "    plt.legend()\n",
        "    plt.grid()\n",
        "    plt.show()\n",
        "\n",
        "    #학습곡선 함수 그리기"
      ]
    },
    {
      "cell_type": "markdown",
      "metadata": {
        "id": "bA-eHXdwBDCz"
      },
      "source": [
        "### (3) 데이터 불러오기"
      ]
    },
    {
      "cell_type": "markdown",
      "metadata": {
        "id": "HwIACQyupklv"
      },
      "source": [
        "* 주어진 데이터셋\n",
        "    * data01_train.csv : 학습 및 검증용\n",
        "    * data01_test.csv : 테스트용\n",
        "    * feature.csv : feature 이름을 계층구조로 정리한 데이터\n",
        "\n",
        "* 세부 요구사항\n",
        "    * 칼럼 삭제 : data01_train.csv와 data01_test.csv 에서 'subject' 칼럼은 불필요하므로 삭제합니다."
      ]
    },
    {
      "cell_type": "markdown",
      "metadata": {
        "id": "fmgUEGOipvG5"
      },
      "source": [
        "#### 1) 데이터로딩"
      ]
    },
    {
      "cell_type": "code",
      "execution_count": null,
      "metadata": {
        "id": "HdZCcSs6qfRC"
      },
      "outputs": [],
      "source": [
        "# 주어진 데이터 셋을 불러오세요.(3개)\n",
        "train_df = pd.read_csv(path + '/data01_train.csv')\n",
        "test_df = pd.read_csv(path + '/data01_test.csv')\n",
        "feature_df = pd.read_csv(path + '/features.csv')"
      ]
    },
    {
      "cell_type": "code",
      "execution_count": null,
      "metadata": {
        "id": "V8tUE_fyqfRC"
      },
      "outputs": [],
      "source": [
        "#불필요한 칼럼을 삭제하세요.\n",
        "train_df = train_df.drop(['subject'], axis=1)\n",
        "test_df = test_df.drop(['subject'], axis=1)\n",
        "\n",
        "#'subject'는 불필요한 칼럼이므로 삭제"
      ]
    },
    {
      "cell_type": "code",
      "execution_count": null,
      "metadata": {
        "id": "FcUbOi_-qfRC",
        "colab": {
          "base_uri": "https://localhost:8080/"
        },
        "outputId": "71e7cc6d-96da-4be5-dc38-dd62decb812a"
      },
      "outputs": [
        {
          "output_type": "execute_result",
          "data": {
            "text/plain": [
              "(   tBodyAcc-mean()-X  tBodyAcc-mean()-Y  tBodyAcc-mean()-Z  tBodyAcc-std()-X  \\\n",
              " 0           0.288508          -0.009196          -0.103362         -0.988986   \n",
              " 1           0.265757          -0.016576          -0.098163         -0.989551   \n",
              " 2           0.278709          -0.014511          -0.108717         -0.997720   \n",
              " 3           0.289795          -0.035536          -0.150354         -0.231727   \n",
              " 4           0.394807           0.034098           0.091229          0.088489   \n",
              " \n",
              "    tBodyAcc-std()-Y  tBodyAcc-std()-Z  tBodyAcc-mad()-X  tBodyAcc-mad()-Y  \\\n",
              " 0         -0.962797         -0.967422         -0.989000         -0.962596   \n",
              " 1         -0.994636         -0.987435         -0.990189         -0.993870   \n",
              " 2         -0.981088         -0.994008         -0.997934         -0.982187   \n",
              " 3         -0.006412         -0.338117         -0.273557          0.014245   \n",
              " 4         -0.106636         -0.388502         -0.010469         -0.109680   \n",
              " \n",
              "    tBodyAcc-mad()-Z  tBodyAcc-max()-X  ...  fBodyBodyGyroJerkMag-skewness()  \\\n",
              " 0         -0.965650         -0.929747  ...                        -0.487737   \n",
              " 1         -0.987558         -0.937337  ...                        -0.237820   \n",
              " 2         -0.995017         -0.942584  ...                        -0.535287   \n",
              " 3         -0.347916          0.008288  ...                        -0.004012   \n",
              " 4         -0.346372          0.584131  ...                        -0.157832   \n",
              " \n",
              "    fBodyBodyGyroJerkMag-kurtosis()  angle(tBodyAccMean,gravity)  \\\n",
              " 0                        -0.816696                    -0.042494   \n",
              " 1                        -0.693515                    -0.062899   \n",
              " 2                        -0.829311                     0.000265   \n",
              " 3                        -0.408956                    -0.255125   \n",
              " 4                        -0.563437                    -0.044344   \n",
              " \n",
              "    angle(tBodyAccJerkMean),gravityMean)  angle(tBodyGyroMean,gravityMean)  \\\n",
              " 0                             -0.044218                          0.307873   \n",
              " 1                              0.388459                         -0.765014   \n",
              " 2                             -0.525022                         -0.891875   \n",
              " 3                              0.612804                          0.747381   \n",
              " 4                             -0.845268                         -0.974650   \n",
              " \n",
              "    angle(tBodyGyroJerkMean,gravityMean)  angle(X,gravityMean)  \\\n",
              " 0                              0.072790             -0.601120   \n",
              " 1                              0.771524              0.345205   \n",
              " 2                              0.021528             -0.833564   \n",
              " 3                             -0.072944             -0.695819   \n",
              " 4                             -0.887846             -0.705029   \n",
              " \n",
              "    angle(Y,gravityMean)  angle(Z,gravityMean)            Activity  \n",
              " 0              0.331298              0.165163            STANDING  \n",
              " 1             -0.769186             -0.147944              LAYING  \n",
              " 2              0.202434             -0.032755            STANDING  \n",
              " 3              0.287154              0.111388             WALKING  \n",
              " 4              0.264952              0.137758  WALKING_DOWNSTAIRS  \n",
              " \n",
              " [5 rows x 562 columns],\n",
              "    tBodyAcc-mean()-X  tBodyAcc-mean()-Y  tBodyAcc-mean()-Z  tBodyAcc-std()-X  \\\n",
              " 0           0.284379          -0.021981          -0.116683         -0.992490   \n",
              " 1           0.277440          -0.028086          -0.118412         -0.996620   \n",
              " 2           0.305833          -0.041023          -0.087303          0.006880   \n",
              " 3           0.276053          -0.016487          -0.108381         -0.995379   \n",
              " 4           0.271998           0.016904          -0.078856         -0.973468   \n",
              " \n",
              "    tBodyAcc-std()-Y  tBodyAcc-std()-Z  tBodyAcc-mad()-X  tBodyAcc-mad()-Y  \\\n",
              " 0         -0.979640         -0.963321         -0.992563         -0.977304   \n",
              " 1         -0.927676         -0.972294         -0.997346         -0.931405   \n",
              " 2          0.182800         -0.237984          0.005642          0.028616   \n",
              " 3         -0.983978         -0.975854         -0.995877         -0.985280   \n",
              " 4         -0.702462         -0.869450         -0.979810         -0.711601   \n",
              " \n",
              "    tBodyAcc-mad()-Z  tBodyAcc-max()-X  ...  fBodyBodyGyroJerkMag-skewness()  \\\n",
              " 0         -0.958142         -0.938850  ...                        -0.509523   \n",
              " 1         -0.971788         -0.939837  ...                        -0.210792   \n",
              " 2         -0.236474          0.016311  ...                         0.579587   \n",
              " 3         -0.974907         -0.941425  ...                        -0.566291   \n",
              " 4         -0.856807         -0.920760  ...                         0.447577   \n",
              " \n",
              "    fBodyBodyGyroJerkMag-kurtosis()  angle(tBodyAccMean,gravity)  \\\n",
              " 0                        -0.850065                    -0.018043   \n",
              " 1                        -0.613367                    -0.022456   \n",
              " 2                         0.394388                    -0.362616   \n",
              " 3                        -0.841455                     0.289548   \n",
              " 4                         0.214219                     0.010111   \n",
              " \n",
              "    angle(tBodyAccJerkMean),gravityMean)  angle(tBodyGyroMean,gravityMean)  \\\n",
              " 0                              0.092304                          0.074220   \n",
              " 1                             -0.155414                          0.247498   \n",
              " 2                              0.171069                          0.576349   \n",
              " 3                              0.079801                         -0.020033   \n",
              " 4                              0.114179                         -0.830776   \n",
              " \n",
              "    angle(tBodyGyroJerkMean,gravityMean)  angle(X,gravityMean)  \\\n",
              " 0                             -0.714534             -0.671943   \n",
              " 1                             -0.112257             -0.826816   \n",
              " 2                             -0.688314             -0.743234   \n",
              " 3                              0.291898             -0.639435   \n",
              " 4                             -0.325098             -0.840817   \n",
              " \n",
              "    angle(Y,gravityMean)  angle(Z,gravityMean)  Activity  \n",
              " 0             -0.018351             -0.185733   SITTING  \n",
              " 1              0.184489             -0.068699  STANDING  \n",
              " 2              0.272186              0.053101   WALKING  \n",
              " 3             -0.111998             -0.123298   SITTING  \n",
              " 4              0.116237             -0.096615  STANDING  \n",
              " \n",
              " [5 rows x 562 columns],\n",
              "      sensor     agg axis       feature_name\n",
              " 0  tBodyAcc  mean()    X  tBodyAcc-mean()-X\n",
              " 1  tBodyAcc  mean()    Y  tBodyAcc-mean()-Y\n",
              " 2  tBodyAcc  mean()    Z  tBodyAcc-mean()-Z\n",
              " 3  tBodyAcc   std()    X   tBodyAcc-std()-X\n",
              " 4  tBodyAcc   std()    Y   tBodyAcc-std()-Y)"
            ]
          },
          "metadata": {},
          "execution_count": 8
        }
      ],
      "source": [
        "train_df.head(), test_df.head(), feature_df.head()\n",
        "#상위 5개 데이터 조회"
      ]
    },
    {
      "cell_type": "markdown",
      "metadata": {
        "id": "aI7qJqz3pr3m"
      },
      "source": [
        "#### 2) 기본 정보 조회"
      ]
    },
    {
      "cell_type": "code",
      "execution_count": null,
      "metadata": {
        "id": "yFVSAGNhpr3m",
        "colab": {
          "base_uri": "https://localhost:8080/"
        },
        "outputId": "4c056377-184f-4119-eed4-fda1f175454f"
      },
      "outputs": [
        {
          "output_type": "stream",
          "name": "stdout",
          "text": [
            "(5881, 562)\n",
            "(1471, 562)\n"
          ]
        }
      ],
      "source": [
        "#전체 데이터의 행,열 개수 확인\n",
        "print(train_df.shape)\n",
        "print(test_df.shape)"
      ]
    },
    {
      "cell_type": "code",
      "execution_count": null,
      "metadata": {
        "id": "xJnnr8K-pr3m",
        "colab": {
          "base_uri": "https://localhost:8080/"
        },
        "outputId": "0f0bd3e2-37bd-42e5-9544-e86c120bb316"
      },
      "outputs": [
        {
          "output_type": "execute_result",
          "data": {
            "text/plain": [
              "(   tBodyAcc-mean()-X  tBodyAcc-mean()-Y  tBodyAcc-mean()-Z  tBodyAcc-std()-X  \\\n",
              " 0           0.288508          -0.009196          -0.103362         -0.988986   \n",
              " 1           0.265757          -0.016576          -0.098163         -0.989551   \n",
              " 2           0.278709          -0.014511          -0.108717         -0.997720   \n",
              " 3           0.289795          -0.035536          -0.150354         -0.231727   \n",
              " 4           0.394807           0.034098           0.091229          0.088489   \n",
              " \n",
              "    tBodyAcc-std()-Y  tBodyAcc-std()-Z  tBodyAcc-mad()-X  tBodyAcc-mad()-Y  \\\n",
              " 0         -0.962797         -0.967422         -0.989000         -0.962596   \n",
              " 1         -0.994636         -0.987435         -0.990189         -0.993870   \n",
              " 2         -0.981088         -0.994008         -0.997934         -0.982187   \n",
              " 3         -0.006412         -0.338117         -0.273557          0.014245   \n",
              " 4         -0.106636         -0.388502         -0.010469         -0.109680   \n",
              " \n",
              "    tBodyAcc-mad()-Z  tBodyAcc-max()-X  ...  fBodyBodyGyroJerkMag-skewness()  \\\n",
              " 0         -0.965650         -0.929747  ...                        -0.487737   \n",
              " 1         -0.987558         -0.937337  ...                        -0.237820   \n",
              " 2         -0.995017         -0.942584  ...                        -0.535287   \n",
              " 3         -0.347916          0.008288  ...                        -0.004012   \n",
              " 4         -0.346372          0.584131  ...                        -0.157832   \n",
              " \n",
              "    fBodyBodyGyroJerkMag-kurtosis()  angle(tBodyAccMean,gravity)  \\\n",
              " 0                        -0.816696                    -0.042494   \n",
              " 1                        -0.693515                    -0.062899   \n",
              " 2                        -0.829311                     0.000265   \n",
              " 3                        -0.408956                    -0.255125   \n",
              " 4                        -0.563437                    -0.044344   \n",
              " \n",
              "    angle(tBodyAccJerkMean),gravityMean)  angle(tBodyGyroMean,gravityMean)  \\\n",
              " 0                             -0.044218                          0.307873   \n",
              " 1                              0.388459                         -0.765014   \n",
              " 2                             -0.525022                         -0.891875   \n",
              " 3                              0.612804                          0.747381   \n",
              " 4                             -0.845268                         -0.974650   \n",
              " \n",
              "    angle(tBodyGyroJerkMean,gravityMean)  angle(X,gravityMean)  \\\n",
              " 0                              0.072790             -0.601120   \n",
              " 1                              0.771524              0.345205   \n",
              " 2                              0.021528             -0.833564   \n",
              " 3                             -0.072944             -0.695819   \n",
              " 4                             -0.887846             -0.705029   \n",
              " \n",
              "    angle(Y,gravityMean)  angle(Z,gravityMean)            Activity  \n",
              " 0              0.331298              0.165163            STANDING  \n",
              " 1             -0.769186             -0.147944              LAYING  \n",
              " 2              0.202434             -0.032755            STANDING  \n",
              " 3              0.287154              0.111388             WALKING  \n",
              " 4              0.264952              0.137758  WALKING_DOWNSTAIRS  \n",
              " \n",
              " [5 rows x 562 columns],\n",
              "    tBodyAcc-mean()-X  tBodyAcc-mean()-Y  tBodyAcc-mean()-Z  tBodyAcc-std()-X  \\\n",
              " 0           0.284379          -0.021981          -0.116683         -0.992490   \n",
              " 1           0.277440          -0.028086          -0.118412         -0.996620   \n",
              " 2           0.305833          -0.041023          -0.087303          0.006880   \n",
              " 3           0.276053          -0.016487          -0.108381         -0.995379   \n",
              " 4           0.271998           0.016904          -0.078856         -0.973468   \n",
              " \n",
              "    tBodyAcc-std()-Y  tBodyAcc-std()-Z  tBodyAcc-mad()-X  tBodyAcc-mad()-Y  \\\n",
              " 0         -0.979640         -0.963321         -0.992563         -0.977304   \n",
              " 1         -0.927676         -0.972294         -0.997346         -0.931405   \n",
              " 2          0.182800         -0.237984          0.005642          0.028616   \n",
              " 3         -0.983978         -0.975854         -0.995877         -0.985280   \n",
              " 4         -0.702462         -0.869450         -0.979810         -0.711601   \n",
              " \n",
              "    tBodyAcc-mad()-Z  tBodyAcc-max()-X  ...  fBodyBodyGyroJerkMag-skewness()  \\\n",
              " 0         -0.958142         -0.938850  ...                        -0.509523   \n",
              " 1         -0.971788         -0.939837  ...                        -0.210792   \n",
              " 2         -0.236474          0.016311  ...                         0.579587   \n",
              " 3         -0.974907         -0.941425  ...                        -0.566291   \n",
              " 4         -0.856807         -0.920760  ...                         0.447577   \n",
              " \n",
              "    fBodyBodyGyroJerkMag-kurtosis()  angle(tBodyAccMean,gravity)  \\\n",
              " 0                        -0.850065                    -0.018043   \n",
              " 1                        -0.613367                    -0.022456   \n",
              " 2                         0.394388                    -0.362616   \n",
              " 3                        -0.841455                     0.289548   \n",
              " 4                         0.214219                     0.010111   \n",
              " \n",
              "    angle(tBodyAccJerkMean),gravityMean)  angle(tBodyGyroMean,gravityMean)  \\\n",
              " 0                              0.092304                          0.074220   \n",
              " 1                             -0.155414                          0.247498   \n",
              " 2                              0.171069                          0.576349   \n",
              " 3                              0.079801                         -0.020033   \n",
              " 4                              0.114179                         -0.830776   \n",
              " \n",
              "    angle(tBodyGyroJerkMean,gravityMean)  angle(X,gravityMean)  \\\n",
              " 0                             -0.714534             -0.671943   \n",
              " 1                             -0.112257             -0.826816   \n",
              " 2                             -0.688314             -0.743234   \n",
              " 3                              0.291898             -0.639435   \n",
              " 4                             -0.325098             -0.840817   \n",
              " \n",
              "    angle(Y,gravityMean)  angle(Z,gravityMean)  Activity  \n",
              " 0             -0.018351             -0.185733   SITTING  \n",
              " 1              0.184489             -0.068699  STANDING  \n",
              " 2              0.272186              0.053101   WALKING  \n",
              " 3             -0.111998             -0.123298   SITTING  \n",
              " 4              0.116237             -0.096615  STANDING  \n",
              " \n",
              " [5 rows x 562 columns],\n",
              "      sensor     agg axis       feature_name\n",
              " 0  tBodyAcc  mean()    X  tBodyAcc-mean()-X\n",
              " 1  tBodyAcc  mean()    Y  tBodyAcc-mean()-Y\n",
              " 2  tBodyAcc  mean()    Z  tBodyAcc-mean()-Z\n",
              " 3  tBodyAcc   std()    X   tBodyAcc-std()-X\n",
              " 4  tBodyAcc   std()    Y   tBodyAcc-std()-Y)"
            ]
          },
          "metadata": {},
          "execution_count": 10
        }
      ],
      "source": [
        "#전체 데이터의 상위 5개 행 확인\n",
        "train_df.head(), test_df.head(), feature_df.head()"
      ]
    },
    {
      "cell_type": "code",
      "execution_count": null,
      "metadata": {
        "id": "ajJ1qJkhpr3n",
        "colab": {
          "base_uri": "https://localhost:8080/",
          "height": 854
        },
        "outputId": "4319460e-0310-4a4c-f085-a27ef5536e04"
      },
      "outputs": [
        {
          "output_type": "display_data",
          "data": {
            "text/plain": [
              "       tBodyAcc-mean()-X  tBodyAcc-mean()-Y  tBodyAcc-mean()-Z  \\\n",
              "count        5881.000000        5881.000000        5881.000000   \n",
              "mean            0.274811          -0.017799          -0.109396   \n",
              "std             0.067614           0.039422           0.058373   \n",
              "min            -0.503823          -0.684893          -1.000000   \n",
              "25%             0.262919          -0.024877          -0.121051   \n",
              "50%             0.277154          -0.017221          -0.108781   \n",
              "75%             0.288526          -0.010920          -0.098163   \n",
              "max             1.000000           1.000000           1.000000   \n",
              "\n",
              "       tBodyAcc-std()-X  tBodyAcc-std()-Y  tBodyAcc-std()-Z  tBodyAcc-mad()-X  \\\n",
              "count       5881.000000       5881.000000       5881.000000       5881.000000   \n",
              "mean          -0.603138         -0.509815         -0.604058         -0.628151   \n",
              "std            0.448807          0.501815          0.417319          0.424345   \n",
              "min           -1.000000         -0.999844         -0.999667         -1.000000   \n",
              "25%           -0.992774         -0.977680         -0.980127         -0.993602   \n",
              "50%           -0.943933         -0.844575         -0.856352         -0.948501   \n",
              "75%           -0.242130         -0.034499         -0.262690         -0.291138   \n",
              "max            1.000000          0.916238          1.000000          1.000000   \n",
              "\n",
              "       tBodyAcc-mad()-Y  tBodyAcc-mad()-Z  tBodyAcc-max()-X  ...  \\\n",
              "count       5881.000000       5881.000000       5881.000000  ...   \n",
              "mean          -0.525944         -0.605374         -0.465490  ...   \n",
              "std            0.485115          0.413043          0.544995  ...   \n",
              "min           -0.999419         -1.000000         -1.000000  ...   \n",
              "25%           -0.977865         -0.980112         -0.936067  ...   \n",
              "50%           -0.849266         -0.849896         -0.878729  ...   \n",
              "75%           -0.068857         -0.268539         -0.013690  ...   \n",
              "max            0.967664          1.000000          1.000000  ...   \n",
              "\n",
              "       fBodyBodyGyroJerkMag-meanFreq()  fBodyBodyGyroJerkMag-skewness()  \\\n",
              "count                      5881.000000                      5881.000000   \n",
              "mean                          0.126955                        -0.305883   \n",
              "std                           0.249176                         0.322808   \n",
              "min                          -0.965725                        -0.979261   \n",
              "25%                          -0.021610                        -0.541969   \n",
              "50%                           0.133887                        -0.342923   \n",
              "75%                           0.288944                        -0.127371   \n",
              "max                           0.946700                         0.989538   \n",
              "\n",
              "       fBodyBodyGyroJerkMag-kurtosis()  angle(tBodyAccMean,gravity)  \\\n",
              "count                      5881.000000                  5881.000000   \n",
              "mean                         -0.623548                     0.008524   \n",
              "std                           0.310371                     0.339730   \n",
              "min                          -0.999765                    -0.976580   \n",
              "25%                          -0.845985                    -0.122361   \n",
              "50%                          -0.712677                     0.010278   \n",
              "75%                          -0.501158                     0.154985   \n",
              "max                           0.956845                     1.000000   \n",
              "\n",
              "       angle(tBodyAccJerkMean),gravityMean)  angle(tBodyGyroMean,gravityMean)  \\\n",
              "count                           5881.000000                       5881.000000   \n",
              "mean                              -0.001185                          0.009340   \n",
              "std                                0.447197                          0.608190   \n",
              "min                               -1.000000                         -1.000000   \n",
              "25%                               -0.294369                         -0.481718   \n",
              "50%                                0.005146                          0.011448   \n",
              "75%                                0.285030                          0.499857   \n",
              "max                                1.000000                          0.998702   \n",
              "\n",
              "       angle(tBodyGyroJerkMean,gravityMean)  angle(X,gravityMean)  \\\n",
              "count                           5881.000000           5881.000000   \n",
              "mean                              -0.007099             -0.491501   \n",
              "std                                0.476738              0.509069   \n",
              "min                               -1.000000             -1.000000   \n",
              "25%                               -0.373345             -0.811397   \n",
              "50%                               -0.000847             -0.709441   \n",
              "75%                                0.356236             -0.511330   \n",
              "max                                0.996078              0.977344   \n",
              "\n",
              "       angle(Y,gravityMean)  angle(Z,gravityMean)  \n",
              "count           5881.000000           5881.000000  \n",
              "mean               0.059299             -0.054594  \n",
              "std                0.297340              0.278479  \n",
              "min               -1.000000             -0.980143  \n",
              "25%               -0.018203             -0.141555  \n",
              "50%                0.182893              0.003951  \n",
              "75%                0.248435              0.111932  \n",
              "max                0.478157              1.000000  \n",
              "\n",
              "[8 rows x 561 columns]"
            ],
            "text/html": [
              "\n",
              "  <div id=\"df-1d994441-1cad-44c0-9235-6774f5004ac2\" class=\"colab-df-container\">\n",
              "    <div>\n",
              "<style scoped>\n",
              "    .dataframe tbody tr th:only-of-type {\n",
              "        vertical-align: middle;\n",
              "    }\n",
              "\n",
              "    .dataframe tbody tr th {\n",
              "        vertical-align: top;\n",
              "    }\n",
              "\n",
              "    .dataframe thead th {\n",
              "        text-align: right;\n",
              "    }\n",
              "</style>\n",
              "<table border=\"1\" class=\"dataframe\">\n",
              "  <thead>\n",
              "    <tr style=\"text-align: right;\">\n",
              "      <th></th>\n",
              "      <th>tBodyAcc-mean()-X</th>\n",
              "      <th>tBodyAcc-mean()-Y</th>\n",
              "      <th>tBodyAcc-mean()-Z</th>\n",
              "      <th>tBodyAcc-std()-X</th>\n",
              "      <th>tBodyAcc-std()-Y</th>\n",
              "      <th>tBodyAcc-std()-Z</th>\n",
              "      <th>tBodyAcc-mad()-X</th>\n",
              "      <th>tBodyAcc-mad()-Y</th>\n",
              "      <th>tBodyAcc-mad()-Z</th>\n",
              "      <th>tBodyAcc-max()-X</th>\n",
              "      <th>...</th>\n",
              "      <th>fBodyBodyGyroJerkMag-meanFreq()</th>\n",
              "      <th>fBodyBodyGyroJerkMag-skewness()</th>\n",
              "      <th>fBodyBodyGyroJerkMag-kurtosis()</th>\n",
              "      <th>angle(tBodyAccMean,gravity)</th>\n",
              "      <th>angle(tBodyAccJerkMean),gravityMean)</th>\n",
              "      <th>angle(tBodyGyroMean,gravityMean)</th>\n",
              "      <th>angle(tBodyGyroJerkMean,gravityMean)</th>\n",
              "      <th>angle(X,gravityMean)</th>\n",
              "      <th>angle(Y,gravityMean)</th>\n",
              "      <th>angle(Z,gravityMean)</th>\n",
              "    </tr>\n",
              "  </thead>\n",
              "  <tbody>\n",
              "    <tr>\n",
              "      <th>count</th>\n",
              "      <td>5881.000000</td>\n",
              "      <td>5881.000000</td>\n",
              "      <td>5881.000000</td>\n",
              "      <td>5881.000000</td>\n",
              "      <td>5881.000000</td>\n",
              "      <td>5881.000000</td>\n",
              "      <td>5881.000000</td>\n",
              "      <td>5881.000000</td>\n",
              "      <td>5881.000000</td>\n",
              "      <td>5881.000000</td>\n",
              "      <td>...</td>\n",
              "      <td>5881.000000</td>\n",
              "      <td>5881.000000</td>\n",
              "      <td>5881.000000</td>\n",
              "      <td>5881.000000</td>\n",
              "      <td>5881.000000</td>\n",
              "      <td>5881.000000</td>\n",
              "      <td>5881.000000</td>\n",
              "      <td>5881.000000</td>\n",
              "      <td>5881.000000</td>\n",
              "      <td>5881.000000</td>\n",
              "    </tr>\n",
              "    <tr>\n",
              "      <th>mean</th>\n",
              "      <td>0.274811</td>\n",
              "      <td>-0.017799</td>\n",
              "      <td>-0.109396</td>\n",
              "      <td>-0.603138</td>\n",
              "      <td>-0.509815</td>\n",
              "      <td>-0.604058</td>\n",
              "      <td>-0.628151</td>\n",
              "      <td>-0.525944</td>\n",
              "      <td>-0.605374</td>\n",
              "      <td>-0.465490</td>\n",
              "      <td>...</td>\n",
              "      <td>0.126955</td>\n",
              "      <td>-0.305883</td>\n",
              "      <td>-0.623548</td>\n",
              "      <td>0.008524</td>\n",
              "      <td>-0.001185</td>\n",
              "      <td>0.009340</td>\n",
              "      <td>-0.007099</td>\n",
              "      <td>-0.491501</td>\n",
              "      <td>0.059299</td>\n",
              "      <td>-0.054594</td>\n",
              "    </tr>\n",
              "    <tr>\n",
              "      <th>std</th>\n",
              "      <td>0.067614</td>\n",
              "      <td>0.039422</td>\n",
              "      <td>0.058373</td>\n",
              "      <td>0.448807</td>\n",
              "      <td>0.501815</td>\n",
              "      <td>0.417319</td>\n",
              "      <td>0.424345</td>\n",
              "      <td>0.485115</td>\n",
              "      <td>0.413043</td>\n",
              "      <td>0.544995</td>\n",
              "      <td>...</td>\n",
              "      <td>0.249176</td>\n",
              "      <td>0.322808</td>\n",
              "      <td>0.310371</td>\n",
              "      <td>0.339730</td>\n",
              "      <td>0.447197</td>\n",
              "      <td>0.608190</td>\n",
              "      <td>0.476738</td>\n",
              "      <td>0.509069</td>\n",
              "      <td>0.297340</td>\n",
              "      <td>0.278479</td>\n",
              "    </tr>\n",
              "    <tr>\n",
              "      <th>min</th>\n",
              "      <td>-0.503823</td>\n",
              "      <td>-0.684893</td>\n",
              "      <td>-1.000000</td>\n",
              "      <td>-1.000000</td>\n",
              "      <td>-0.999844</td>\n",
              "      <td>-0.999667</td>\n",
              "      <td>-1.000000</td>\n",
              "      <td>-0.999419</td>\n",
              "      <td>-1.000000</td>\n",
              "      <td>-1.000000</td>\n",
              "      <td>...</td>\n",
              "      <td>-0.965725</td>\n",
              "      <td>-0.979261</td>\n",
              "      <td>-0.999765</td>\n",
              "      <td>-0.976580</td>\n",
              "      <td>-1.000000</td>\n",
              "      <td>-1.000000</td>\n",
              "      <td>-1.000000</td>\n",
              "      <td>-1.000000</td>\n",
              "      <td>-1.000000</td>\n",
              "      <td>-0.980143</td>\n",
              "    </tr>\n",
              "    <tr>\n",
              "      <th>25%</th>\n",
              "      <td>0.262919</td>\n",
              "      <td>-0.024877</td>\n",
              "      <td>-0.121051</td>\n",
              "      <td>-0.992774</td>\n",
              "      <td>-0.977680</td>\n",
              "      <td>-0.980127</td>\n",
              "      <td>-0.993602</td>\n",
              "      <td>-0.977865</td>\n",
              "      <td>-0.980112</td>\n",
              "      <td>-0.936067</td>\n",
              "      <td>...</td>\n",
              "      <td>-0.021610</td>\n",
              "      <td>-0.541969</td>\n",
              "      <td>-0.845985</td>\n",
              "      <td>-0.122361</td>\n",
              "      <td>-0.294369</td>\n",
              "      <td>-0.481718</td>\n",
              "      <td>-0.373345</td>\n",
              "      <td>-0.811397</td>\n",
              "      <td>-0.018203</td>\n",
              "      <td>-0.141555</td>\n",
              "    </tr>\n",
              "    <tr>\n",
              "      <th>50%</th>\n",
              "      <td>0.277154</td>\n",
              "      <td>-0.017221</td>\n",
              "      <td>-0.108781</td>\n",
              "      <td>-0.943933</td>\n",
              "      <td>-0.844575</td>\n",
              "      <td>-0.856352</td>\n",
              "      <td>-0.948501</td>\n",
              "      <td>-0.849266</td>\n",
              "      <td>-0.849896</td>\n",
              "      <td>-0.878729</td>\n",
              "      <td>...</td>\n",
              "      <td>0.133887</td>\n",
              "      <td>-0.342923</td>\n",
              "      <td>-0.712677</td>\n",
              "      <td>0.010278</td>\n",
              "      <td>0.005146</td>\n",
              "      <td>0.011448</td>\n",
              "      <td>-0.000847</td>\n",
              "      <td>-0.709441</td>\n",
              "      <td>0.182893</td>\n",
              "      <td>0.003951</td>\n",
              "    </tr>\n",
              "    <tr>\n",
              "      <th>75%</th>\n",
              "      <td>0.288526</td>\n",
              "      <td>-0.010920</td>\n",
              "      <td>-0.098163</td>\n",
              "      <td>-0.242130</td>\n",
              "      <td>-0.034499</td>\n",
              "      <td>-0.262690</td>\n",
              "      <td>-0.291138</td>\n",
              "      <td>-0.068857</td>\n",
              "      <td>-0.268539</td>\n",
              "      <td>-0.013690</td>\n",
              "      <td>...</td>\n",
              "      <td>0.288944</td>\n",
              "      <td>-0.127371</td>\n",
              "      <td>-0.501158</td>\n",
              "      <td>0.154985</td>\n",
              "      <td>0.285030</td>\n",
              "      <td>0.499857</td>\n",
              "      <td>0.356236</td>\n",
              "      <td>-0.511330</td>\n",
              "      <td>0.248435</td>\n",
              "      <td>0.111932</td>\n",
              "    </tr>\n",
              "    <tr>\n",
              "      <th>max</th>\n",
              "      <td>1.000000</td>\n",
              "      <td>1.000000</td>\n",
              "      <td>1.000000</td>\n",
              "      <td>1.000000</td>\n",
              "      <td>0.916238</td>\n",
              "      <td>1.000000</td>\n",
              "      <td>1.000000</td>\n",
              "      <td>0.967664</td>\n",
              "      <td>1.000000</td>\n",
              "      <td>1.000000</td>\n",
              "      <td>...</td>\n",
              "      <td>0.946700</td>\n",
              "      <td>0.989538</td>\n",
              "      <td>0.956845</td>\n",
              "      <td>1.000000</td>\n",
              "      <td>1.000000</td>\n",
              "      <td>0.998702</td>\n",
              "      <td>0.996078</td>\n",
              "      <td>0.977344</td>\n",
              "      <td>0.478157</td>\n",
              "      <td>1.000000</td>\n",
              "    </tr>\n",
              "  </tbody>\n",
              "</table>\n",
              "<p>8 rows × 561 columns</p>\n",
              "</div>\n",
              "    <div class=\"colab-df-buttons\">\n",
              "\n",
              "  <div class=\"colab-df-container\">\n",
              "    <button class=\"colab-df-convert\" onclick=\"convertToInteractive('df-1d994441-1cad-44c0-9235-6774f5004ac2')\"\n",
              "            title=\"Convert this dataframe to an interactive table.\"\n",
              "            style=\"display:none;\">\n",
              "\n",
              "  <svg xmlns=\"http://www.w3.org/2000/svg\" height=\"24px\" viewBox=\"0 -960 960 960\">\n",
              "    <path d=\"M120-120v-720h720v720H120Zm60-500h600v-160H180v160Zm220 220h160v-160H400v160Zm0 220h160v-160H400v160ZM180-400h160v-160H180v160Zm440 0h160v-160H620v160ZM180-180h160v-160H180v160Zm440 0h160v-160H620v160Z\"/>\n",
              "  </svg>\n",
              "    </button>\n",
              "\n",
              "  <style>\n",
              "    .colab-df-container {\n",
              "      display:flex;\n",
              "      gap: 12px;\n",
              "    }\n",
              "\n",
              "    .colab-df-convert {\n",
              "      background-color: #E8F0FE;\n",
              "      border: none;\n",
              "      border-radius: 50%;\n",
              "      cursor: pointer;\n",
              "      display: none;\n",
              "      fill: #1967D2;\n",
              "      height: 32px;\n",
              "      padding: 0 0 0 0;\n",
              "      width: 32px;\n",
              "    }\n",
              "\n",
              "    .colab-df-convert:hover {\n",
              "      background-color: #E2EBFA;\n",
              "      box-shadow: 0px 1px 2px rgba(60, 64, 67, 0.3), 0px 1px 3px 1px rgba(60, 64, 67, 0.15);\n",
              "      fill: #174EA6;\n",
              "    }\n",
              "\n",
              "    .colab-df-buttons div {\n",
              "      margin-bottom: 4px;\n",
              "    }\n",
              "\n",
              "    [theme=dark] .colab-df-convert {\n",
              "      background-color: #3B4455;\n",
              "      fill: #D2E3FC;\n",
              "    }\n",
              "\n",
              "    [theme=dark] .colab-df-convert:hover {\n",
              "      background-color: #434B5C;\n",
              "      box-shadow: 0px 1px 3px 1px rgba(0, 0, 0, 0.15);\n",
              "      filter: drop-shadow(0px 1px 2px rgba(0, 0, 0, 0.3));\n",
              "      fill: #FFFFFF;\n",
              "    }\n",
              "  </style>\n",
              "\n",
              "    <script>\n",
              "      const buttonEl =\n",
              "        document.querySelector('#df-1d994441-1cad-44c0-9235-6774f5004ac2 button.colab-df-convert');\n",
              "      buttonEl.style.display =\n",
              "        google.colab.kernel.accessAllowed ? 'block' : 'none';\n",
              "\n",
              "      async function convertToInteractive(key) {\n",
              "        const element = document.querySelector('#df-1d994441-1cad-44c0-9235-6774f5004ac2');\n",
              "        const dataTable =\n",
              "          await google.colab.kernel.invokeFunction('convertToInteractive',\n",
              "                                                    [key], {});\n",
              "        if (!dataTable) return;\n",
              "\n",
              "        const docLinkHtml = 'Like what you see? Visit the ' +\n",
              "          '<a target=\"_blank\" href=https://colab.research.google.com/notebooks/data_table.ipynb>data table notebook</a>'\n",
              "          + ' to learn more about interactive tables.';\n",
              "        element.innerHTML = '';\n",
              "        dataTable['output_type'] = 'display_data';\n",
              "        await google.colab.output.renderOutput(dataTable, element);\n",
              "        const docLink = document.createElement('div');\n",
              "        docLink.innerHTML = docLinkHtml;\n",
              "        element.appendChild(docLink);\n",
              "      }\n",
              "    </script>\n",
              "  </div>\n",
              "\n",
              "\n",
              "<div id=\"df-f8a7cfa1-2e66-421b-b749-5ff484b4837a\">\n",
              "  <button class=\"colab-df-quickchart\" onclick=\"quickchart('df-f8a7cfa1-2e66-421b-b749-5ff484b4837a')\"\n",
              "            title=\"Suggest charts\"\n",
              "            style=\"display:none;\">\n",
              "\n",
              "<svg xmlns=\"http://www.w3.org/2000/svg\" height=\"24px\"viewBox=\"0 0 24 24\"\n",
              "     width=\"24px\">\n",
              "    <g>\n",
              "        <path d=\"M19 3H5c-1.1 0-2 .9-2 2v14c0 1.1.9 2 2 2h14c1.1 0 2-.9 2-2V5c0-1.1-.9-2-2-2zM9 17H7v-7h2v7zm4 0h-2V7h2v10zm4 0h-2v-4h2v4z\"/>\n",
              "    </g>\n",
              "</svg>\n",
              "  </button>\n",
              "\n",
              "<style>\n",
              "  .colab-df-quickchart {\n",
              "      --bg-color: #E8F0FE;\n",
              "      --fill-color: #1967D2;\n",
              "      --hover-bg-color: #E2EBFA;\n",
              "      --hover-fill-color: #174EA6;\n",
              "      --disabled-fill-color: #AAA;\n",
              "      --disabled-bg-color: #DDD;\n",
              "  }\n",
              "\n",
              "  [theme=dark] .colab-df-quickchart {\n",
              "      --bg-color: #3B4455;\n",
              "      --fill-color: #D2E3FC;\n",
              "      --hover-bg-color: #434B5C;\n",
              "      --hover-fill-color: #FFFFFF;\n",
              "      --disabled-bg-color: #3B4455;\n",
              "      --disabled-fill-color: #666;\n",
              "  }\n",
              "\n",
              "  .colab-df-quickchart {\n",
              "    background-color: var(--bg-color);\n",
              "    border: none;\n",
              "    border-radius: 50%;\n",
              "    cursor: pointer;\n",
              "    display: none;\n",
              "    fill: var(--fill-color);\n",
              "    height: 32px;\n",
              "    padding: 0;\n",
              "    width: 32px;\n",
              "  }\n",
              "\n",
              "  .colab-df-quickchart:hover {\n",
              "    background-color: var(--hover-bg-color);\n",
              "    box-shadow: 0 1px 2px rgba(60, 64, 67, 0.3), 0 1px 3px 1px rgba(60, 64, 67, 0.15);\n",
              "    fill: var(--button-hover-fill-color);\n",
              "  }\n",
              "\n",
              "  .colab-df-quickchart-complete:disabled,\n",
              "  .colab-df-quickchart-complete:disabled:hover {\n",
              "    background-color: var(--disabled-bg-color);\n",
              "    fill: var(--disabled-fill-color);\n",
              "    box-shadow: none;\n",
              "  }\n",
              "\n",
              "  .colab-df-spinner {\n",
              "    border: 2px solid var(--fill-color);\n",
              "    border-color: transparent;\n",
              "    border-bottom-color: var(--fill-color);\n",
              "    animation:\n",
              "      spin 1s steps(1) infinite;\n",
              "  }\n",
              "\n",
              "  @keyframes spin {\n",
              "    0% {\n",
              "      border-color: transparent;\n",
              "      border-bottom-color: var(--fill-color);\n",
              "      border-left-color: var(--fill-color);\n",
              "    }\n",
              "    20% {\n",
              "      border-color: transparent;\n",
              "      border-left-color: var(--fill-color);\n",
              "      border-top-color: var(--fill-color);\n",
              "    }\n",
              "    30% {\n",
              "      border-color: transparent;\n",
              "      border-left-color: var(--fill-color);\n",
              "      border-top-color: var(--fill-color);\n",
              "      border-right-color: var(--fill-color);\n",
              "    }\n",
              "    40% {\n",
              "      border-color: transparent;\n",
              "      border-right-color: var(--fill-color);\n",
              "      border-top-color: var(--fill-color);\n",
              "    }\n",
              "    60% {\n",
              "      border-color: transparent;\n",
              "      border-right-color: var(--fill-color);\n",
              "    }\n",
              "    80% {\n",
              "      border-color: transparent;\n",
              "      border-right-color: var(--fill-color);\n",
              "      border-bottom-color: var(--fill-color);\n",
              "    }\n",
              "    90% {\n",
              "      border-color: transparent;\n",
              "      border-bottom-color: var(--fill-color);\n",
              "    }\n",
              "  }\n",
              "</style>\n",
              "\n",
              "  <script>\n",
              "    async function quickchart(key) {\n",
              "      const quickchartButtonEl =\n",
              "        document.querySelector('#' + key + ' button');\n",
              "      quickchartButtonEl.disabled = true;  // To prevent multiple clicks.\n",
              "      quickchartButtonEl.classList.add('colab-df-spinner');\n",
              "      try {\n",
              "        const charts = await google.colab.kernel.invokeFunction(\n",
              "            'suggestCharts', [key], {});\n",
              "      } catch (error) {\n",
              "        console.error('Error during call to suggestCharts:', error);\n",
              "      }\n",
              "      quickchartButtonEl.classList.remove('colab-df-spinner');\n",
              "      quickchartButtonEl.classList.add('colab-df-quickchart-complete');\n",
              "    }\n",
              "    (() => {\n",
              "      let quickchartButtonEl =\n",
              "        document.querySelector('#df-f8a7cfa1-2e66-421b-b749-5ff484b4837a button');\n",
              "      quickchartButtonEl.style.display =\n",
              "        google.colab.kernel.accessAllowed ? 'block' : 'none';\n",
              "    })();\n",
              "  </script>\n",
              "</div>\n",
              "\n",
              "    </div>\n",
              "  </div>\n"
            ],
            "application/vnd.google.colaboratory.intrinsic+json": {
              "type": "dataframe"
            }
          },
          "metadata": {}
        },
        {
          "output_type": "display_data",
          "data": {
            "text/plain": [
              "       tBodyAcc-mean()-X  tBodyAcc-mean()-Y  tBodyAcc-mean()-Z  \\\n",
              "count        1471.000000        1471.000000        1471.000000   \n",
              "mean            0.273198          -0.017281          -0.108123   \n",
              "std             0.079989           0.045957           0.049082   \n",
              "min            -1.000000          -1.000000          -0.418354   \n",
              "25%             0.263787          -0.024792          -0.120733   \n",
              "50%             0.277322          -0.017187          -0.108124   \n",
              "75%             0.288058          -0.010238          -0.096606   \n",
              "max             0.631510           0.359587           0.543939   \n",
              "\n",
              "       tBodyAcc-std()-X  tBodyAcc-std()-Y  tBodyAcc-std()-Z  tBodyAcc-mad()-X  \\\n",
              "count       1471.000000       1471.000000       1471.000000       1471.000000   \n",
              "mean          -0.614634         -0.515427         -0.607533         -0.639950   \n",
              "std            0.448480          0.506094          0.424243          0.422994   \n",
              "min           -0.999717         -0.999873         -1.000000         -0.999867   \n",
              "25%           -0.992669         -0.979082         -0.981070         -0.993498   \n",
              "50%           -0.952426         -0.867309         -0.869890         -0.958705   \n",
              "75%           -0.245405         -0.030639         -0.260223         -0.297260   \n",
              "max            0.899922          0.782590          0.931308          0.950758   \n",
              "\n",
              "       tBodyAcc-mad()-Y  tBodyAcc-mad()-Z  tBodyAcc-max()-X  ...  \\\n",
              "count       1471.000000       1471.000000       1471.000000  ...   \n",
              "mean          -0.530760         -0.609256         -0.481055  ...   \n",
              "std            0.489381          0.418536          0.542756  ...   \n",
              "min           -1.000000         -0.999879         -0.948723  ...   \n",
              "25%           -0.979214         -0.980659         -0.936791  ...   \n",
              "50%           -0.873891         -0.863451         -0.890491  ...   \n",
              "75%           -0.058824         -0.256657         -0.030692  ...   \n",
              "max            0.602458          0.784041          0.821218  ...   \n",
              "\n",
              "       fBodyBodyGyroJerkMag-meanFreq()  fBodyBodyGyroJerkMag-skewness()  \\\n",
              "count                      1471.000000                      1471.000000   \n",
              "mean                          0.118651                        -0.311513   \n",
              "std                           0.258112                         0.313792   \n",
              "min                          -1.000000                        -0.995357   \n",
              "25%                          -0.035193                        -0.546342   \n",
              "50%                           0.135282                        -0.347433   \n",
              "75%                           0.289832                        -0.125796   \n",
              "max                           0.860512                         0.941113   \n",
              "\n",
              "       fBodyBodyGyroJerkMag-kurtosis()  angle(tBodyAccMean,gravity)  \\\n",
              "count                      1471.000000                  1471.000000   \n",
              "mean                         -0.632273                     0.009324   \n",
              "std                           0.296179                     0.324864   \n",
              "min                          -0.994664                    -0.937468   \n",
              "25%                          -0.844547                    -0.119166   \n",
              "50%                          -0.706699                     0.005049   \n",
              "75%                          -0.516910                     0.135698   \n",
              "max                           0.894210                     0.980889   \n",
              "\n",
              "       angle(tBodyAccJerkMean),gravityMean)  angle(tBodyGyroMean,gravityMean)  \\\n",
              "count                           1471.000000                       1471.000000   \n",
              "mean                               0.015666                          0.006272   \n",
              "std                                0.452616                          0.608954   \n",
              "min                               -0.990492                         -0.995222   \n",
              "25%                               -0.265533                         -0.485998   \n",
              "50%                                0.023421                         -0.005036   \n",
              "75%                                0.312690                          0.518184   \n",
              "max                                0.991899                          0.994366   \n",
              "\n",
              "       angle(tBodyGyroJerkMean,gravityMean)  angle(X,gravityMean)  \\\n",
              "count                           1471.000000           1471.000000   \n",
              "mean                              -0.001510             -0.481737   \n",
              "std                                0.483028              0.522714   \n",
              "min                               -0.969066             -0.999380   \n",
              "25%                               -0.380300             -0.814060   \n",
              "50%                                0.002408             -0.708911   \n",
              "75%                                0.374583             -0.486534   \n",
              "max                                0.979522              1.000000   \n",
              "\n",
              "       angle(Y,gravityMean)  angle(Z,gravityMean)  \n",
              "count           1471.000000           1471.000000  \n",
              "mean               0.055771             -0.064194  \n",
              "std                0.298124              0.281645  \n",
              "min               -0.995073             -1.000000  \n",
              "25%               -0.017413             -0.148445  \n",
              "50%                0.178814             -0.002243  \n",
              "75%                0.248126              0.096674  \n",
              "max                0.432496              0.992766  \n",
              "\n",
              "[8 rows x 561 columns]"
            ],
            "text/html": [
              "\n",
              "  <div id=\"df-8683f6ef-2074-4872-9987-71feb11050c8\" class=\"colab-df-container\">\n",
              "    <div>\n",
              "<style scoped>\n",
              "    .dataframe tbody tr th:only-of-type {\n",
              "        vertical-align: middle;\n",
              "    }\n",
              "\n",
              "    .dataframe tbody tr th {\n",
              "        vertical-align: top;\n",
              "    }\n",
              "\n",
              "    .dataframe thead th {\n",
              "        text-align: right;\n",
              "    }\n",
              "</style>\n",
              "<table border=\"1\" class=\"dataframe\">\n",
              "  <thead>\n",
              "    <tr style=\"text-align: right;\">\n",
              "      <th></th>\n",
              "      <th>tBodyAcc-mean()-X</th>\n",
              "      <th>tBodyAcc-mean()-Y</th>\n",
              "      <th>tBodyAcc-mean()-Z</th>\n",
              "      <th>tBodyAcc-std()-X</th>\n",
              "      <th>tBodyAcc-std()-Y</th>\n",
              "      <th>tBodyAcc-std()-Z</th>\n",
              "      <th>tBodyAcc-mad()-X</th>\n",
              "      <th>tBodyAcc-mad()-Y</th>\n",
              "      <th>tBodyAcc-mad()-Z</th>\n",
              "      <th>tBodyAcc-max()-X</th>\n",
              "      <th>...</th>\n",
              "      <th>fBodyBodyGyroJerkMag-meanFreq()</th>\n",
              "      <th>fBodyBodyGyroJerkMag-skewness()</th>\n",
              "      <th>fBodyBodyGyroJerkMag-kurtosis()</th>\n",
              "      <th>angle(tBodyAccMean,gravity)</th>\n",
              "      <th>angle(tBodyAccJerkMean),gravityMean)</th>\n",
              "      <th>angle(tBodyGyroMean,gravityMean)</th>\n",
              "      <th>angle(tBodyGyroJerkMean,gravityMean)</th>\n",
              "      <th>angle(X,gravityMean)</th>\n",
              "      <th>angle(Y,gravityMean)</th>\n",
              "      <th>angle(Z,gravityMean)</th>\n",
              "    </tr>\n",
              "  </thead>\n",
              "  <tbody>\n",
              "    <tr>\n",
              "      <th>count</th>\n",
              "      <td>1471.000000</td>\n",
              "      <td>1471.000000</td>\n",
              "      <td>1471.000000</td>\n",
              "      <td>1471.000000</td>\n",
              "      <td>1471.000000</td>\n",
              "      <td>1471.000000</td>\n",
              "      <td>1471.000000</td>\n",
              "      <td>1471.000000</td>\n",
              "      <td>1471.000000</td>\n",
              "      <td>1471.000000</td>\n",
              "      <td>...</td>\n",
              "      <td>1471.000000</td>\n",
              "      <td>1471.000000</td>\n",
              "      <td>1471.000000</td>\n",
              "      <td>1471.000000</td>\n",
              "      <td>1471.000000</td>\n",
              "      <td>1471.000000</td>\n",
              "      <td>1471.000000</td>\n",
              "      <td>1471.000000</td>\n",
              "      <td>1471.000000</td>\n",
              "      <td>1471.000000</td>\n",
              "    </tr>\n",
              "    <tr>\n",
              "      <th>mean</th>\n",
              "      <td>0.273198</td>\n",
              "      <td>-0.017281</td>\n",
              "      <td>-0.108123</td>\n",
              "      <td>-0.614634</td>\n",
              "      <td>-0.515427</td>\n",
              "      <td>-0.607533</td>\n",
              "      <td>-0.639950</td>\n",
              "      <td>-0.530760</td>\n",
              "      <td>-0.609256</td>\n",
              "      <td>-0.481055</td>\n",
              "      <td>...</td>\n",
              "      <td>0.118651</td>\n",
              "      <td>-0.311513</td>\n",
              "      <td>-0.632273</td>\n",
              "      <td>0.009324</td>\n",
              "      <td>0.015666</td>\n",
              "      <td>0.006272</td>\n",
              "      <td>-0.001510</td>\n",
              "      <td>-0.481737</td>\n",
              "      <td>0.055771</td>\n",
              "      <td>-0.064194</td>\n",
              "    </tr>\n",
              "    <tr>\n",
              "      <th>std</th>\n",
              "      <td>0.079989</td>\n",
              "      <td>0.045957</td>\n",
              "      <td>0.049082</td>\n",
              "      <td>0.448480</td>\n",
              "      <td>0.506094</td>\n",
              "      <td>0.424243</td>\n",
              "      <td>0.422994</td>\n",
              "      <td>0.489381</td>\n",
              "      <td>0.418536</td>\n",
              "      <td>0.542756</td>\n",
              "      <td>...</td>\n",
              "      <td>0.258112</td>\n",
              "      <td>0.313792</td>\n",
              "      <td>0.296179</td>\n",
              "      <td>0.324864</td>\n",
              "      <td>0.452616</td>\n",
              "      <td>0.608954</td>\n",
              "      <td>0.483028</td>\n",
              "      <td>0.522714</td>\n",
              "      <td>0.298124</td>\n",
              "      <td>0.281645</td>\n",
              "    </tr>\n",
              "    <tr>\n",
              "      <th>min</th>\n",
              "      <td>-1.000000</td>\n",
              "      <td>-1.000000</td>\n",
              "      <td>-0.418354</td>\n",
              "      <td>-0.999717</td>\n",
              "      <td>-0.999873</td>\n",
              "      <td>-1.000000</td>\n",
              "      <td>-0.999867</td>\n",
              "      <td>-1.000000</td>\n",
              "      <td>-0.999879</td>\n",
              "      <td>-0.948723</td>\n",
              "      <td>...</td>\n",
              "      <td>-1.000000</td>\n",
              "      <td>-0.995357</td>\n",
              "      <td>-0.994664</td>\n",
              "      <td>-0.937468</td>\n",
              "      <td>-0.990492</td>\n",
              "      <td>-0.995222</td>\n",
              "      <td>-0.969066</td>\n",
              "      <td>-0.999380</td>\n",
              "      <td>-0.995073</td>\n",
              "      <td>-1.000000</td>\n",
              "    </tr>\n",
              "    <tr>\n",
              "      <th>25%</th>\n",
              "      <td>0.263787</td>\n",
              "      <td>-0.024792</td>\n",
              "      <td>-0.120733</td>\n",
              "      <td>-0.992669</td>\n",
              "      <td>-0.979082</td>\n",
              "      <td>-0.981070</td>\n",
              "      <td>-0.993498</td>\n",
              "      <td>-0.979214</td>\n",
              "      <td>-0.980659</td>\n",
              "      <td>-0.936791</td>\n",
              "      <td>...</td>\n",
              "      <td>-0.035193</td>\n",
              "      <td>-0.546342</td>\n",
              "      <td>-0.844547</td>\n",
              "      <td>-0.119166</td>\n",
              "      <td>-0.265533</td>\n",
              "      <td>-0.485998</td>\n",
              "      <td>-0.380300</td>\n",
              "      <td>-0.814060</td>\n",
              "      <td>-0.017413</td>\n",
              "      <td>-0.148445</td>\n",
              "    </tr>\n",
              "    <tr>\n",
              "      <th>50%</th>\n",
              "      <td>0.277322</td>\n",
              "      <td>-0.017187</td>\n",
              "      <td>-0.108124</td>\n",
              "      <td>-0.952426</td>\n",
              "      <td>-0.867309</td>\n",
              "      <td>-0.869890</td>\n",
              "      <td>-0.958705</td>\n",
              "      <td>-0.873891</td>\n",
              "      <td>-0.863451</td>\n",
              "      <td>-0.890491</td>\n",
              "      <td>...</td>\n",
              "      <td>0.135282</td>\n",
              "      <td>-0.347433</td>\n",
              "      <td>-0.706699</td>\n",
              "      <td>0.005049</td>\n",
              "      <td>0.023421</td>\n",
              "      <td>-0.005036</td>\n",
              "      <td>0.002408</td>\n",
              "      <td>-0.708911</td>\n",
              "      <td>0.178814</td>\n",
              "      <td>-0.002243</td>\n",
              "    </tr>\n",
              "    <tr>\n",
              "      <th>75%</th>\n",
              "      <td>0.288058</td>\n",
              "      <td>-0.010238</td>\n",
              "      <td>-0.096606</td>\n",
              "      <td>-0.245405</td>\n",
              "      <td>-0.030639</td>\n",
              "      <td>-0.260223</td>\n",
              "      <td>-0.297260</td>\n",
              "      <td>-0.058824</td>\n",
              "      <td>-0.256657</td>\n",
              "      <td>-0.030692</td>\n",
              "      <td>...</td>\n",
              "      <td>0.289832</td>\n",
              "      <td>-0.125796</td>\n",
              "      <td>-0.516910</td>\n",
              "      <td>0.135698</td>\n",
              "      <td>0.312690</td>\n",
              "      <td>0.518184</td>\n",
              "      <td>0.374583</td>\n",
              "      <td>-0.486534</td>\n",
              "      <td>0.248126</td>\n",
              "      <td>0.096674</td>\n",
              "    </tr>\n",
              "    <tr>\n",
              "      <th>max</th>\n",
              "      <td>0.631510</td>\n",
              "      <td>0.359587</td>\n",
              "      <td>0.543939</td>\n",
              "      <td>0.899922</td>\n",
              "      <td>0.782590</td>\n",
              "      <td>0.931308</td>\n",
              "      <td>0.950758</td>\n",
              "      <td>0.602458</td>\n",
              "      <td>0.784041</td>\n",
              "      <td>0.821218</td>\n",
              "      <td>...</td>\n",
              "      <td>0.860512</td>\n",
              "      <td>0.941113</td>\n",
              "      <td>0.894210</td>\n",
              "      <td>0.980889</td>\n",
              "      <td>0.991899</td>\n",
              "      <td>0.994366</td>\n",
              "      <td>0.979522</td>\n",
              "      <td>1.000000</td>\n",
              "      <td>0.432496</td>\n",
              "      <td>0.992766</td>\n",
              "    </tr>\n",
              "  </tbody>\n",
              "</table>\n",
              "<p>8 rows × 561 columns</p>\n",
              "</div>\n",
              "    <div class=\"colab-df-buttons\">\n",
              "\n",
              "  <div class=\"colab-df-container\">\n",
              "    <button class=\"colab-df-convert\" onclick=\"convertToInteractive('df-8683f6ef-2074-4872-9987-71feb11050c8')\"\n",
              "            title=\"Convert this dataframe to an interactive table.\"\n",
              "            style=\"display:none;\">\n",
              "\n",
              "  <svg xmlns=\"http://www.w3.org/2000/svg\" height=\"24px\" viewBox=\"0 -960 960 960\">\n",
              "    <path d=\"M120-120v-720h720v720H120Zm60-500h600v-160H180v160Zm220 220h160v-160H400v160Zm0 220h160v-160H400v160ZM180-400h160v-160H180v160Zm440 0h160v-160H620v160ZM180-180h160v-160H180v160Zm440 0h160v-160H620v160Z\"/>\n",
              "  </svg>\n",
              "    </button>\n",
              "\n",
              "  <style>\n",
              "    .colab-df-container {\n",
              "      display:flex;\n",
              "      gap: 12px;\n",
              "    }\n",
              "\n",
              "    .colab-df-convert {\n",
              "      background-color: #E8F0FE;\n",
              "      border: none;\n",
              "      border-radius: 50%;\n",
              "      cursor: pointer;\n",
              "      display: none;\n",
              "      fill: #1967D2;\n",
              "      height: 32px;\n",
              "      padding: 0 0 0 0;\n",
              "      width: 32px;\n",
              "    }\n",
              "\n",
              "    .colab-df-convert:hover {\n",
              "      background-color: #E2EBFA;\n",
              "      box-shadow: 0px 1px 2px rgba(60, 64, 67, 0.3), 0px 1px 3px 1px rgba(60, 64, 67, 0.15);\n",
              "      fill: #174EA6;\n",
              "    }\n",
              "\n",
              "    .colab-df-buttons div {\n",
              "      margin-bottom: 4px;\n",
              "    }\n",
              "\n",
              "    [theme=dark] .colab-df-convert {\n",
              "      background-color: #3B4455;\n",
              "      fill: #D2E3FC;\n",
              "    }\n",
              "\n",
              "    [theme=dark] .colab-df-convert:hover {\n",
              "      background-color: #434B5C;\n",
              "      box-shadow: 0px 1px 3px 1px rgba(0, 0, 0, 0.15);\n",
              "      filter: drop-shadow(0px 1px 2px rgba(0, 0, 0, 0.3));\n",
              "      fill: #FFFFFF;\n",
              "    }\n",
              "  </style>\n",
              "\n",
              "    <script>\n",
              "      const buttonEl =\n",
              "        document.querySelector('#df-8683f6ef-2074-4872-9987-71feb11050c8 button.colab-df-convert');\n",
              "      buttonEl.style.display =\n",
              "        google.colab.kernel.accessAllowed ? 'block' : 'none';\n",
              "\n",
              "      async function convertToInteractive(key) {\n",
              "        const element = document.querySelector('#df-8683f6ef-2074-4872-9987-71feb11050c8');\n",
              "        const dataTable =\n",
              "          await google.colab.kernel.invokeFunction('convertToInteractive',\n",
              "                                                    [key], {});\n",
              "        if (!dataTable) return;\n",
              "\n",
              "        const docLinkHtml = 'Like what you see? Visit the ' +\n",
              "          '<a target=\"_blank\" href=https://colab.research.google.com/notebooks/data_table.ipynb>data table notebook</a>'\n",
              "          + ' to learn more about interactive tables.';\n",
              "        element.innerHTML = '';\n",
              "        dataTable['output_type'] = 'display_data';\n",
              "        await google.colab.output.renderOutput(dataTable, element);\n",
              "        const docLink = document.createElement('div');\n",
              "        docLink.innerHTML = docLinkHtml;\n",
              "        element.appendChild(docLink);\n",
              "      }\n",
              "    </script>\n",
              "  </div>\n",
              "\n",
              "\n",
              "<div id=\"df-aba45d0a-cb7a-45d1-99e0-eee8fd275922\">\n",
              "  <button class=\"colab-df-quickchart\" onclick=\"quickchart('df-aba45d0a-cb7a-45d1-99e0-eee8fd275922')\"\n",
              "            title=\"Suggest charts\"\n",
              "            style=\"display:none;\">\n",
              "\n",
              "<svg xmlns=\"http://www.w3.org/2000/svg\" height=\"24px\"viewBox=\"0 0 24 24\"\n",
              "     width=\"24px\">\n",
              "    <g>\n",
              "        <path d=\"M19 3H5c-1.1 0-2 .9-2 2v14c0 1.1.9 2 2 2h14c1.1 0 2-.9 2-2V5c0-1.1-.9-2-2-2zM9 17H7v-7h2v7zm4 0h-2V7h2v10zm4 0h-2v-4h2v4z\"/>\n",
              "    </g>\n",
              "</svg>\n",
              "  </button>\n",
              "\n",
              "<style>\n",
              "  .colab-df-quickchart {\n",
              "      --bg-color: #E8F0FE;\n",
              "      --fill-color: #1967D2;\n",
              "      --hover-bg-color: #E2EBFA;\n",
              "      --hover-fill-color: #174EA6;\n",
              "      --disabled-fill-color: #AAA;\n",
              "      --disabled-bg-color: #DDD;\n",
              "  }\n",
              "\n",
              "  [theme=dark] .colab-df-quickchart {\n",
              "      --bg-color: #3B4455;\n",
              "      --fill-color: #D2E3FC;\n",
              "      --hover-bg-color: #434B5C;\n",
              "      --hover-fill-color: #FFFFFF;\n",
              "      --disabled-bg-color: #3B4455;\n",
              "      --disabled-fill-color: #666;\n",
              "  }\n",
              "\n",
              "  .colab-df-quickchart {\n",
              "    background-color: var(--bg-color);\n",
              "    border: none;\n",
              "    border-radius: 50%;\n",
              "    cursor: pointer;\n",
              "    display: none;\n",
              "    fill: var(--fill-color);\n",
              "    height: 32px;\n",
              "    padding: 0;\n",
              "    width: 32px;\n",
              "  }\n",
              "\n",
              "  .colab-df-quickchart:hover {\n",
              "    background-color: var(--hover-bg-color);\n",
              "    box-shadow: 0 1px 2px rgba(60, 64, 67, 0.3), 0 1px 3px 1px rgba(60, 64, 67, 0.15);\n",
              "    fill: var(--button-hover-fill-color);\n",
              "  }\n",
              "\n",
              "  .colab-df-quickchart-complete:disabled,\n",
              "  .colab-df-quickchart-complete:disabled:hover {\n",
              "    background-color: var(--disabled-bg-color);\n",
              "    fill: var(--disabled-fill-color);\n",
              "    box-shadow: none;\n",
              "  }\n",
              "\n",
              "  .colab-df-spinner {\n",
              "    border: 2px solid var(--fill-color);\n",
              "    border-color: transparent;\n",
              "    border-bottom-color: var(--fill-color);\n",
              "    animation:\n",
              "      spin 1s steps(1) infinite;\n",
              "  }\n",
              "\n",
              "  @keyframes spin {\n",
              "    0% {\n",
              "      border-color: transparent;\n",
              "      border-bottom-color: var(--fill-color);\n",
              "      border-left-color: var(--fill-color);\n",
              "    }\n",
              "    20% {\n",
              "      border-color: transparent;\n",
              "      border-left-color: var(--fill-color);\n",
              "      border-top-color: var(--fill-color);\n",
              "    }\n",
              "    30% {\n",
              "      border-color: transparent;\n",
              "      border-left-color: var(--fill-color);\n",
              "      border-top-color: var(--fill-color);\n",
              "      border-right-color: var(--fill-color);\n",
              "    }\n",
              "    40% {\n",
              "      border-color: transparent;\n",
              "      border-right-color: var(--fill-color);\n",
              "      border-top-color: var(--fill-color);\n",
              "    }\n",
              "    60% {\n",
              "      border-color: transparent;\n",
              "      border-right-color: var(--fill-color);\n",
              "    }\n",
              "    80% {\n",
              "      border-color: transparent;\n",
              "      border-right-color: var(--fill-color);\n",
              "      border-bottom-color: var(--fill-color);\n",
              "    }\n",
              "    90% {\n",
              "      border-color: transparent;\n",
              "      border-bottom-color: var(--fill-color);\n",
              "    }\n",
              "  }\n",
              "</style>\n",
              "\n",
              "  <script>\n",
              "    async function quickchart(key) {\n",
              "      const quickchartButtonEl =\n",
              "        document.querySelector('#' + key + ' button');\n",
              "      quickchartButtonEl.disabled = true;  // To prevent multiple clicks.\n",
              "      quickchartButtonEl.classList.add('colab-df-spinner');\n",
              "      try {\n",
              "        const charts = await google.colab.kernel.invokeFunction(\n",
              "            'suggestCharts', [key], {});\n",
              "      } catch (error) {\n",
              "        console.error('Error during call to suggestCharts:', error);\n",
              "      }\n",
              "      quickchartButtonEl.classList.remove('colab-df-spinner');\n",
              "      quickchartButtonEl.classList.add('colab-df-quickchart-complete');\n",
              "    }\n",
              "    (() => {\n",
              "      let quickchartButtonEl =\n",
              "        document.querySelector('#df-aba45d0a-cb7a-45d1-99e0-eee8fd275922 button');\n",
              "      quickchartButtonEl.style.display =\n",
              "        google.colab.kernel.accessAllowed ? 'block' : 'none';\n",
              "    })();\n",
              "  </script>\n",
              "</div>\n",
              "\n",
              "    </div>\n",
              "  </div>\n"
            ],
            "application/vnd.google.colaboratory.intrinsic+json": {
              "type": "dataframe"
            }
          },
          "metadata": {}
        },
        {
          "output_type": "display_data",
          "data": {
            "text/plain": [
              "           sensor            agg axis          feature_name\n",
              "count         561            561  436                   561\n",
              "unique         18             27   62                   561\n",
              "top     fBodyGyro  bandsEnergy()    X  angle(Z,gravityMean)\n",
              "freq           79            126   76                     1"
            ],
            "text/html": [
              "\n",
              "  <div id=\"df-06b0ea6d-7fb5-4604-a194-bfb44513e976\" class=\"colab-df-container\">\n",
              "    <div>\n",
              "<style scoped>\n",
              "    .dataframe tbody tr th:only-of-type {\n",
              "        vertical-align: middle;\n",
              "    }\n",
              "\n",
              "    .dataframe tbody tr th {\n",
              "        vertical-align: top;\n",
              "    }\n",
              "\n",
              "    .dataframe thead th {\n",
              "        text-align: right;\n",
              "    }\n",
              "</style>\n",
              "<table border=\"1\" class=\"dataframe\">\n",
              "  <thead>\n",
              "    <tr style=\"text-align: right;\">\n",
              "      <th></th>\n",
              "      <th>sensor</th>\n",
              "      <th>agg</th>\n",
              "      <th>axis</th>\n",
              "      <th>feature_name</th>\n",
              "    </tr>\n",
              "  </thead>\n",
              "  <tbody>\n",
              "    <tr>\n",
              "      <th>count</th>\n",
              "      <td>561</td>\n",
              "      <td>561</td>\n",
              "      <td>436</td>\n",
              "      <td>561</td>\n",
              "    </tr>\n",
              "    <tr>\n",
              "      <th>unique</th>\n",
              "      <td>18</td>\n",
              "      <td>27</td>\n",
              "      <td>62</td>\n",
              "      <td>561</td>\n",
              "    </tr>\n",
              "    <tr>\n",
              "      <th>top</th>\n",
              "      <td>fBodyGyro</td>\n",
              "      <td>bandsEnergy()</td>\n",
              "      <td>X</td>\n",
              "      <td>angle(Z,gravityMean)</td>\n",
              "    </tr>\n",
              "    <tr>\n",
              "      <th>freq</th>\n",
              "      <td>79</td>\n",
              "      <td>126</td>\n",
              "      <td>76</td>\n",
              "      <td>1</td>\n",
              "    </tr>\n",
              "  </tbody>\n",
              "</table>\n",
              "</div>\n",
              "    <div class=\"colab-df-buttons\">\n",
              "\n",
              "  <div class=\"colab-df-container\">\n",
              "    <button class=\"colab-df-convert\" onclick=\"convertToInteractive('df-06b0ea6d-7fb5-4604-a194-bfb44513e976')\"\n",
              "            title=\"Convert this dataframe to an interactive table.\"\n",
              "            style=\"display:none;\">\n",
              "\n",
              "  <svg xmlns=\"http://www.w3.org/2000/svg\" height=\"24px\" viewBox=\"0 -960 960 960\">\n",
              "    <path d=\"M120-120v-720h720v720H120Zm60-500h600v-160H180v160Zm220 220h160v-160H400v160Zm0 220h160v-160H400v160ZM180-400h160v-160H180v160Zm440 0h160v-160H620v160ZM180-180h160v-160H180v160Zm440 0h160v-160H620v160Z\"/>\n",
              "  </svg>\n",
              "    </button>\n",
              "\n",
              "  <style>\n",
              "    .colab-df-container {\n",
              "      display:flex;\n",
              "      gap: 12px;\n",
              "    }\n",
              "\n",
              "    .colab-df-convert {\n",
              "      background-color: #E8F0FE;\n",
              "      border: none;\n",
              "      border-radius: 50%;\n",
              "      cursor: pointer;\n",
              "      display: none;\n",
              "      fill: #1967D2;\n",
              "      height: 32px;\n",
              "      padding: 0 0 0 0;\n",
              "      width: 32px;\n",
              "    }\n",
              "\n",
              "    .colab-df-convert:hover {\n",
              "      background-color: #E2EBFA;\n",
              "      box-shadow: 0px 1px 2px rgba(60, 64, 67, 0.3), 0px 1px 3px 1px rgba(60, 64, 67, 0.15);\n",
              "      fill: #174EA6;\n",
              "    }\n",
              "\n",
              "    .colab-df-buttons div {\n",
              "      margin-bottom: 4px;\n",
              "    }\n",
              "\n",
              "    [theme=dark] .colab-df-convert {\n",
              "      background-color: #3B4455;\n",
              "      fill: #D2E3FC;\n",
              "    }\n",
              "\n",
              "    [theme=dark] .colab-df-convert:hover {\n",
              "      background-color: #434B5C;\n",
              "      box-shadow: 0px 1px 3px 1px rgba(0, 0, 0, 0.15);\n",
              "      filter: drop-shadow(0px 1px 2px rgba(0, 0, 0, 0.3));\n",
              "      fill: #FFFFFF;\n",
              "    }\n",
              "  </style>\n",
              "\n",
              "    <script>\n",
              "      const buttonEl =\n",
              "        document.querySelector('#df-06b0ea6d-7fb5-4604-a194-bfb44513e976 button.colab-df-convert');\n",
              "      buttonEl.style.display =\n",
              "        google.colab.kernel.accessAllowed ? 'block' : 'none';\n",
              "\n",
              "      async function convertToInteractive(key) {\n",
              "        const element = document.querySelector('#df-06b0ea6d-7fb5-4604-a194-bfb44513e976');\n",
              "        const dataTable =\n",
              "          await google.colab.kernel.invokeFunction('convertToInteractive',\n",
              "                                                    [key], {});\n",
              "        if (!dataTable) return;\n",
              "\n",
              "        const docLinkHtml = 'Like what you see? Visit the ' +\n",
              "          '<a target=\"_blank\" href=https://colab.research.google.com/notebooks/data_table.ipynb>data table notebook</a>'\n",
              "          + ' to learn more about interactive tables.';\n",
              "        element.innerHTML = '';\n",
              "        dataTable['output_type'] = 'display_data';\n",
              "        await google.colab.output.renderOutput(dataTable, element);\n",
              "        const docLink = document.createElement('div');\n",
              "        docLink.innerHTML = docLinkHtml;\n",
              "        element.appendChild(docLink);\n",
              "      }\n",
              "    </script>\n",
              "  </div>\n",
              "\n",
              "\n",
              "<div id=\"df-29a00036-673e-443a-b02a-a87fadbf9973\">\n",
              "  <button class=\"colab-df-quickchart\" onclick=\"quickchart('df-29a00036-673e-443a-b02a-a87fadbf9973')\"\n",
              "            title=\"Suggest charts\"\n",
              "            style=\"display:none;\">\n",
              "\n",
              "<svg xmlns=\"http://www.w3.org/2000/svg\" height=\"24px\"viewBox=\"0 0 24 24\"\n",
              "     width=\"24px\">\n",
              "    <g>\n",
              "        <path d=\"M19 3H5c-1.1 0-2 .9-2 2v14c0 1.1.9 2 2 2h14c1.1 0 2-.9 2-2V5c0-1.1-.9-2-2-2zM9 17H7v-7h2v7zm4 0h-2V7h2v10zm4 0h-2v-4h2v4z\"/>\n",
              "    </g>\n",
              "</svg>\n",
              "  </button>\n",
              "\n",
              "<style>\n",
              "  .colab-df-quickchart {\n",
              "      --bg-color: #E8F0FE;\n",
              "      --fill-color: #1967D2;\n",
              "      --hover-bg-color: #E2EBFA;\n",
              "      --hover-fill-color: #174EA6;\n",
              "      --disabled-fill-color: #AAA;\n",
              "      --disabled-bg-color: #DDD;\n",
              "  }\n",
              "\n",
              "  [theme=dark] .colab-df-quickchart {\n",
              "      --bg-color: #3B4455;\n",
              "      --fill-color: #D2E3FC;\n",
              "      --hover-bg-color: #434B5C;\n",
              "      --hover-fill-color: #FFFFFF;\n",
              "      --disabled-bg-color: #3B4455;\n",
              "      --disabled-fill-color: #666;\n",
              "  }\n",
              "\n",
              "  .colab-df-quickchart {\n",
              "    background-color: var(--bg-color);\n",
              "    border: none;\n",
              "    border-radius: 50%;\n",
              "    cursor: pointer;\n",
              "    display: none;\n",
              "    fill: var(--fill-color);\n",
              "    height: 32px;\n",
              "    padding: 0;\n",
              "    width: 32px;\n",
              "  }\n",
              "\n",
              "  .colab-df-quickchart:hover {\n",
              "    background-color: var(--hover-bg-color);\n",
              "    box-shadow: 0 1px 2px rgba(60, 64, 67, 0.3), 0 1px 3px 1px rgba(60, 64, 67, 0.15);\n",
              "    fill: var(--button-hover-fill-color);\n",
              "  }\n",
              "\n",
              "  .colab-df-quickchart-complete:disabled,\n",
              "  .colab-df-quickchart-complete:disabled:hover {\n",
              "    background-color: var(--disabled-bg-color);\n",
              "    fill: var(--disabled-fill-color);\n",
              "    box-shadow: none;\n",
              "  }\n",
              "\n",
              "  .colab-df-spinner {\n",
              "    border: 2px solid var(--fill-color);\n",
              "    border-color: transparent;\n",
              "    border-bottom-color: var(--fill-color);\n",
              "    animation:\n",
              "      spin 1s steps(1) infinite;\n",
              "  }\n",
              "\n",
              "  @keyframes spin {\n",
              "    0% {\n",
              "      border-color: transparent;\n",
              "      border-bottom-color: var(--fill-color);\n",
              "      border-left-color: var(--fill-color);\n",
              "    }\n",
              "    20% {\n",
              "      border-color: transparent;\n",
              "      border-left-color: var(--fill-color);\n",
              "      border-top-color: var(--fill-color);\n",
              "    }\n",
              "    30% {\n",
              "      border-color: transparent;\n",
              "      border-left-color: var(--fill-color);\n",
              "      border-top-color: var(--fill-color);\n",
              "      border-right-color: var(--fill-color);\n",
              "    }\n",
              "    40% {\n",
              "      border-color: transparent;\n",
              "      border-right-color: var(--fill-color);\n",
              "      border-top-color: var(--fill-color);\n",
              "    }\n",
              "    60% {\n",
              "      border-color: transparent;\n",
              "      border-right-color: var(--fill-color);\n",
              "    }\n",
              "    80% {\n",
              "      border-color: transparent;\n",
              "      border-right-color: var(--fill-color);\n",
              "      border-bottom-color: var(--fill-color);\n",
              "    }\n",
              "    90% {\n",
              "      border-color: transparent;\n",
              "      border-bottom-color: var(--fill-color);\n",
              "    }\n",
              "  }\n",
              "</style>\n",
              "\n",
              "  <script>\n",
              "    async function quickchart(key) {\n",
              "      const quickchartButtonEl =\n",
              "        document.querySelector('#' + key + ' button');\n",
              "      quickchartButtonEl.disabled = true;  // To prevent multiple clicks.\n",
              "      quickchartButtonEl.classList.add('colab-df-spinner');\n",
              "      try {\n",
              "        const charts = await google.colab.kernel.invokeFunction(\n",
              "            'suggestCharts', [key], {});\n",
              "      } catch (error) {\n",
              "        console.error('Error during call to suggestCharts:', error);\n",
              "      }\n",
              "      quickchartButtonEl.classList.remove('colab-df-spinner');\n",
              "      quickchartButtonEl.classList.add('colab-df-quickchart-complete');\n",
              "    }\n",
              "    (() => {\n",
              "      let quickchartButtonEl =\n",
              "        document.querySelector('#df-29a00036-673e-443a-b02a-a87fadbf9973 button');\n",
              "      quickchartButtonEl.style.display =\n",
              "        google.colab.kernel.accessAllowed ? 'block' : 'none';\n",
              "    })();\n",
              "  </script>\n",
              "</div>\n",
              "\n",
              "    </div>\n",
              "  </div>\n"
            ],
            "application/vnd.google.colaboratory.intrinsic+json": {
              "type": "dataframe",
              "summary": "{\n  \"name\": \"display(feature_df\",\n  \"rows\": 4,\n  \"fields\": [\n    {\n      \"column\": \"sensor\",\n      \"properties\": {\n        \"dtype\": \"string\",\n        \"num_unique_values\": 4,\n        \"samples\": [\n          18,\n          \"79\",\n          \"561\"\n        ],\n        \"semantic_type\": \"\",\n        \"description\": \"\"\n      }\n    },\n    {\n      \"column\": \"agg\",\n      \"properties\": {\n        \"dtype\": \"string\",\n        \"num_unique_values\": 4,\n        \"samples\": [\n          27,\n          \"126\",\n          \"561\"\n        ],\n        \"semantic_type\": \"\",\n        \"description\": \"\"\n      }\n    },\n    {\n      \"column\": \"axis\",\n      \"properties\": {\n        \"dtype\": \"string\",\n        \"num_unique_values\": 4,\n        \"samples\": [\n          62,\n          \"76\",\n          \"436\"\n        ],\n        \"semantic_type\": \"\",\n        \"description\": \"\"\n      }\n    },\n    {\n      \"column\": \"feature_name\",\n      \"properties\": {\n        \"dtype\": \"string\",\n        \"num_unique_values\": 3,\n        \"samples\": [\n          \"561\",\n          \"angle(Z,gravityMean)\",\n          \"1\"\n        ],\n        \"semantic_type\": \"\",\n        \"description\": \"\"\n      }\n    }\n  ]\n}"
            }
          },
          "metadata": {}
        }
      ],
      "source": [
        "#전체 데이터의 수치형 변수 분포 확인\n",
        "display(train_df.describe())\n",
        "display(test_df.describe())\n",
        "display(feature_df.describe())\n",
        "\n",
        "# display:전체 데이터 확인"
      ]
    },
    {
      "cell_type": "code",
      "execution_count": null,
      "metadata": {
        "id": "Jn78I6JFpr3n",
        "colab": {
          "base_uri": "https://localhost:8080/",
          "height": 447
        },
        "outputId": "c886436d-e31e-4d60-db8d-5becf3cd2844"
      },
      "outputs": [
        {
          "output_type": "display_data",
          "data": {
            "text/plain": [
              "Index(['tBodyAcc-mean()-X', 'tBodyAcc-mean()-Y', 'tBodyAcc-mean()-Z',\n",
              "       'tBodyAcc-std()-X', 'tBodyAcc-std()-Y', 'tBodyAcc-std()-Z',\n",
              "       'tBodyAcc-mad()-X', 'tBodyAcc-mad()-Y', 'tBodyAcc-mad()-Z',\n",
              "       'tBodyAcc-max()-X',\n",
              "       ...\n",
              "       'fBodyBodyGyroJerkMag-skewness()', 'fBodyBodyGyroJerkMag-kurtosis()',\n",
              "       'angle(tBodyAccMean,gravity)', 'angle(tBodyAccJerkMean),gravityMean)',\n",
              "       'angle(tBodyGyroMean,gravityMean)',\n",
              "       'angle(tBodyGyroJerkMean,gravityMean)', 'angle(X,gravityMean)',\n",
              "       'angle(Y,gravityMean)', 'angle(Z,gravityMean)', 'Activity'],\n",
              "      dtype='object', length=562)"
            ]
          },
          "metadata": {}
        },
        {
          "output_type": "display_data",
          "data": {
            "text/plain": [
              "Index(['tBodyAcc-mean()-X', 'tBodyAcc-mean()-Y', 'tBodyAcc-mean()-Z',\n",
              "       'tBodyAcc-std()-X', 'tBodyAcc-std()-Y', 'tBodyAcc-std()-Z',\n",
              "       'tBodyAcc-mad()-X', 'tBodyAcc-mad()-Y', 'tBodyAcc-mad()-Z',\n",
              "       'tBodyAcc-max()-X',\n",
              "       ...\n",
              "       'fBodyBodyGyroJerkMag-skewness()', 'fBodyBodyGyroJerkMag-kurtosis()',\n",
              "       'angle(tBodyAccMean,gravity)', 'angle(tBodyAccJerkMean),gravityMean)',\n",
              "       'angle(tBodyGyroMean,gravityMean)',\n",
              "       'angle(tBodyGyroJerkMean,gravityMean)', 'angle(X,gravityMean)',\n",
              "       'angle(Y,gravityMean)', 'angle(Z,gravityMean)', 'Activity'],\n",
              "      dtype='object', length=562)"
            ]
          },
          "metadata": {}
        },
        {
          "output_type": "display_data",
          "data": {
            "text/plain": [
              "Index(['sensor', 'agg', 'axis', 'feature_name'], dtype='object')"
            ]
          },
          "metadata": {}
        }
      ],
      "source": [
        "#전체 데이터의 모든 변수 확인\n",
        "display(train_df.columns)\n",
        "display(test_df.columns)\n",
        "display(feature_df.columns)\n",
        "\n",
        "# display:전체 데이터 확인"
      ]
    },
    {
      "cell_type": "markdown",
      "metadata": {
        "id": "L4vnMOyNzt3x"
      },
      "source": [
        "## **2. 데이터 전처리**\n",
        "\n",
        "* 가변수화, 데이터 분할, NaN 확인 및 조치, 스케일링 등 필요한 전처리를 수행한다.\n"
      ]
    },
    {
      "cell_type": "markdown",
      "metadata": {
        "id": "I_9sGxvxzt3y"
      },
      "source": [
        "### (1) 데이터 분할1 : x, y"
      ]
    },
    {
      "cell_type": "markdown",
      "metadata": {
        "id": "1TqlYFz-zt3z"
      },
      "source": [
        "* 세부 요구사항\n",
        "    - x, y로 분할합니다."
      ]
    },
    {
      "cell_type": "code",
      "execution_count": null,
      "metadata": {
        "id": "EAm84rxdzt30",
        "colab": {
          "base_uri": "https://localhost:8080/"
        },
        "outputId": "cd6aca64-2b2f-4042-8e38-b3ceb9dbd159"
      },
      "outputs": [
        {
          "output_type": "execute_result",
          "data": {
            "text/plain": [
              "(   tBodyAcc-mean()-X  tBodyAcc-mean()-Y  tBodyAcc-mean()-Z  tBodyAcc-std()-X  \\\n",
              " 0           0.288508          -0.009196          -0.103362         -0.988986   \n",
              " 1           0.265757          -0.016576          -0.098163         -0.989551   \n",
              " 2           0.278709          -0.014511          -0.108717         -0.997720   \n",
              " 3           0.289795          -0.035536          -0.150354         -0.231727   \n",
              " 4           0.394807           0.034098           0.091229          0.088489   \n",
              " \n",
              "    tBodyAcc-std()-Y  tBodyAcc-std()-Z  tBodyAcc-mad()-X  tBodyAcc-mad()-Y  \\\n",
              " 0         -0.962797         -0.967422         -0.989000         -0.962596   \n",
              " 1         -0.994636         -0.987435         -0.990189         -0.993870   \n",
              " 2         -0.981088         -0.994008         -0.997934         -0.982187   \n",
              " 3         -0.006412         -0.338117         -0.273557          0.014245   \n",
              " 4         -0.106636         -0.388502         -0.010469         -0.109680   \n",
              " \n",
              "    tBodyAcc-mad()-Z  tBodyAcc-max()-X  ...  fBodyBodyGyroJerkMag-meanFreq()  \\\n",
              " 0         -0.965650         -0.929747  ...                        -0.032207   \n",
              " 1         -0.987558         -0.937337  ...                        -0.246705   \n",
              " 2         -0.995017         -0.942584  ...                         0.388765   \n",
              " 3         -0.347916          0.008288  ...                         0.050888   \n",
              " 4         -0.346372          0.584131  ...                        -0.013902   \n",
              " \n",
              "    fBodyBodyGyroJerkMag-skewness()  fBodyBodyGyroJerkMag-kurtosis()  \\\n",
              " 0                        -0.487737                        -0.816696   \n",
              " 1                        -0.237820                        -0.693515   \n",
              " 2                        -0.535287                        -0.829311   \n",
              " 3                        -0.004012                        -0.408956   \n",
              " 4                        -0.157832                        -0.563437   \n",
              " \n",
              "    angle(tBodyAccMean,gravity)  angle(tBodyAccJerkMean),gravityMean)  \\\n",
              " 0                    -0.042494                             -0.044218   \n",
              " 1                    -0.062899                              0.388459   \n",
              " 2                     0.000265                             -0.525022   \n",
              " 3                    -0.255125                              0.612804   \n",
              " 4                    -0.044344                             -0.845268   \n",
              " \n",
              "    angle(tBodyGyroMean,gravityMean)  angle(tBodyGyroJerkMean,gravityMean)  \\\n",
              " 0                          0.307873                              0.072790   \n",
              " 1                         -0.765014                              0.771524   \n",
              " 2                         -0.891875                              0.021528   \n",
              " 3                          0.747381                             -0.072944   \n",
              " 4                         -0.974650                             -0.887846   \n",
              " \n",
              "    angle(X,gravityMean)  angle(Y,gravityMean)  angle(Z,gravityMean)  \n",
              " 0             -0.601120              0.331298              0.165163  \n",
              " 1              0.345205             -0.769186             -0.147944  \n",
              " 2             -0.833564              0.202434             -0.032755  \n",
              " 3             -0.695819              0.287154              0.111388  \n",
              " 4             -0.705029              0.264952              0.137758  \n",
              " \n",
              " [5 rows x 561 columns],\n",
              " 0              STANDING\n",
              " 1                LAYING\n",
              " 2              STANDING\n",
              " 3               WALKING\n",
              " 4    WALKING_DOWNSTAIRS\n",
              " Name: Activity, dtype: object)"
            ]
          },
          "metadata": {},
          "execution_count": 13
        }
      ],
      "source": [
        "# 데이터 분할을 합니다.\n",
        "X_train = train_df.drop('Activity', axis=1)\n",
        "y_train = train_df['Activity']\n",
        "\n",
        "X_train.head(), y_train.head()\n",
        "\n",
        "#데이터 분할"
      ]
    },
    {
      "cell_type": "code",
      "source": [
        "# 데이터 분할을 합니다. (test)\n",
        "X_test = test_df.drop('Activity', axis=1)\n",
        "y_test = test_df['Activity']\n",
        "\n",
        "X_test.head(), y_test.head()\n",
        "\n",
        "#데이터 분할"
      ],
      "metadata": {
        "colab": {
          "base_uri": "https://localhost:8080/"
        },
        "id": "XfcdJMw7TRhs",
        "outputId": "32e76037-13f5-4db9-bae9-16caaf3e5bb0"
      },
      "execution_count": null,
      "outputs": [
        {
          "output_type": "execute_result",
          "data": {
            "text/plain": [
              "(   tBodyAcc-mean()-X  tBodyAcc-mean()-Y  tBodyAcc-mean()-Z  tBodyAcc-std()-X  \\\n",
              " 0           0.284379          -0.021981          -0.116683         -0.992490   \n",
              " 1           0.277440          -0.028086          -0.118412         -0.996620   \n",
              " 2           0.305833          -0.041023          -0.087303          0.006880   \n",
              " 3           0.276053          -0.016487          -0.108381         -0.995379   \n",
              " 4           0.271998           0.016904          -0.078856         -0.973468   \n",
              " \n",
              "    tBodyAcc-std()-Y  tBodyAcc-std()-Z  tBodyAcc-mad()-X  tBodyAcc-mad()-Y  \\\n",
              " 0         -0.979640         -0.963321         -0.992563         -0.977304   \n",
              " 1         -0.927676         -0.972294         -0.997346         -0.931405   \n",
              " 2          0.182800         -0.237984          0.005642          0.028616   \n",
              " 3         -0.983978         -0.975854         -0.995877         -0.985280   \n",
              " 4         -0.702462         -0.869450         -0.979810         -0.711601   \n",
              " \n",
              "    tBodyAcc-mad()-Z  tBodyAcc-max()-X  ...  fBodyBodyGyroJerkMag-meanFreq()  \\\n",
              " 0         -0.958142         -0.938850  ...                         0.255432   \n",
              " 1         -0.971788         -0.939837  ...                        -0.166341   \n",
              " 2         -0.236474          0.016311  ...                         0.468354   \n",
              " 3         -0.974907         -0.941425  ...                         0.337635   \n",
              " 4         -0.856807         -0.920760  ...                        -0.594792   \n",
              " \n",
              "    fBodyBodyGyroJerkMag-skewness()  fBodyBodyGyroJerkMag-kurtosis()  \\\n",
              " 0                        -0.509523                        -0.850065   \n",
              " 1                        -0.210792                        -0.613367   \n",
              " 2                         0.579587                         0.394388   \n",
              " 3                        -0.566291                        -0.841455   \n",
              " 4                         0.447577                         0.214219   \n",
              " \n",
              "    angle(tBodyAccMean,gravity)  angle(tBodyAccJerkMean),gravityMean)  \\\n",
              " 0                    -0.018043                              0.092304   \n",
              " 1                    -0.022456                             -0.155414   \n",
              " 2                    -0.362616                              0.171069   \n",
              " 3                     0.289548                              0.079801   \n",
              " 4                     0.010111                              0.114179   \n",
              " \n",
              "    angle(tBodyGyroMean,gravityMean)  angle(tBodyGyroJerkMean,gravityMean)  \\\n",
              " 0                          0.074220                             -0.714534   \n",
              " 1                          0.247498                             -0.112257   \n",
              " 2                          0.576349                             -0.688314   \n",
              " 3                         -0.020033                              0.291898   \n",
              " 4                         -0.830776                             -0.325098   \n",
              " \n",
              "    angle(X,gravityMean)  angle(Y,gravityMean)  angle(Z,gravityMean)  \n",
              " 0             -0.671943             -0.018351             -0.185733  \n",
              " 1             -0.826816              0.184489             -0.068699  \n",
              " 2             -0.743234              0.272186              0.053101  \n",
              " 3             -0.639435             -0.111998             -0.123298  \n",
              " 4             -0.840817              0.116237             -0.096615  \n",
              " \n",
              " [5 rows x 561 columns],\n",
              " 0     SITTING\n",
              " 1    STANDING\n",
              " 2     WALKING\n",
              " 3     SITTING\n",
              " 4    STANDING\n",
              " Name: Activity, dtype: object)"
            ]
          },
          "metadata": {},
          "execution_count": 14
        }
      ]
    },
    {
      "cell_type": "markdown",
      "metadata": {
        "id": "kH0LsKFizt30"
      },
      "source": [
        "### (2) 스케일링\n"
      ]
    },
    {
      "cell_type": "markdown",
      "metadata": {
        "id": "9EKjPKYjzt31"
      },
      "source": [
        "* 세부 요구사항\n",
        "    - 스케일링을 필요로 하는 알고리즘 사용을 위해서 코드 수행\n",
        "    - min-max 방식 혹은 standard 방식 중 한가지 사용."
      ]
    },
    {
      "cell_type": "code",
      "execution_count": null,
      "metadata": {
        "id": "zkEtWdkUzt31"
      },
      "outputs": [],
      "source": [
        "#스케일링 방식을 선택해서 스케일링을 진행합니다.\n",
        "from sklearn.preprocessing import MinMaxScaler\n",
        "scaler = MinMaxScaler()                         # MinMaxScaler 실행\n",
        "\n",
        "X_train = scaler.fit_transform(X_train)\n",
        "X_test = scaler.transform(X_test)"
      ]
    },
    {
      "cell_type": "markdown",
      "metadata": {
        "id": "erf1kwLNL_BG"
      },
      "source": [
        "### (3) Y 전처리\n",
        "* integer encoding : LabelEncoder\n",
        "* (필요시) one-hot encoding"
      ]
    },
    {
      "cell_type": "code",
      "execution_count": null,
      "metadata": {
        "id": "V9ZjiqZxL9vu"
      },
      "outputs": [],
      "source": [
        "# 정수 인코딩 변환(LabelEncoder)\n",
        "from sklearn.preprocessing import LabelEncoder\n",
        "le = LabelEncoder()\n",
        "\n",
        "y_train = le.fit_transform(y_train)\n",
        "y_test = le.transform(y_test)"
      ]
    },
    {
      "cell_type": "code",
      "execution_count": null,
      "metadata": {
        "id": "yXa3uZu_MciF",
        "colab": {
          "base_uri": "https://localhost:8080/"
        },
        "outputId": "ce3e6d0f-3c7d-4b86-c706-8a299c9b7793"
      },
      "outputs": [
        {
          "output_type": "execute_result",
          "data": {
            "text/plain": [
              "array(['LAYING', 'SITTING', 'STANDING', 'WALKING', 'WALKING_DOWNSTAIRS',\n",
              "       'WALKING_UPSTAIRS'], dtype=object)"
            ]
          },
          "metadata": {},
          "execution_count": 17
        }
      ],
      "source": [
        "# 기존 레이블 저장\n",
        "labels = le.classes_\n",
        "labels"
      ]
    },
    {
      "cell_type": "markdown",
      "metadata": {
        "id": "KvFgLaegzt34"
      },
      "source": [
        "### (4) 데이터분할2 : train, validation"
      ]
    },
    {
      "cell_type": "markdown",
      "metadata": {
        "id": "eaMzPqRmzt34"
      },
      "source": [
        "* 세부 요구사항\n",
        "    - train : val = 8 : 2 혹은 7 : 3\n",
        "    - random_state 옵션을 사용하여 다른 모델과 비교를 위해 성능이 재현되도록 합니다."
      ]
    },
    {
      "cell_type": "code",
      "execution_count": null,
      "metadata": {
        "id": "0UiQn0pmzt35",
        "colab": {
          "base_uri": "https://localhost:8080/"
        },
        "outputId": "2762070d-41f1-427e-b0a6-a9c5a575286c"
      },
      "outputs": [
        {
          "output_type": "execute_result",
          "data": {
            "text/plain": [
              "((4704, 561), (1177, 561), (4704,), (1177,))"
            ]
          },
          "metadata": {},
          "execution_count": 18
        }
      ],
      "source": [
        "#데이터 분할 진행(train:val = 8:2 혹은 7:3 권장)\n",
        "from sklearn.model_selection import train_test_split\n",
        "X_train, X_val, y_train, y_val = train_test_split(X_train, y_train,\n",
        "                                                  train_size=0.8,\n",
        "                                                  random_state=7)\n",
        "X_train.shape, X_val.shape, y_train.shape, y_val.shape\n",
        "\n",
        "#train:val 을 통한 데이터 분할"
      ]
    },
    {
      "cell_type": "markdown",
      "metadata": {
        "id": "QqIj25L-zt35"
      },
      "source": [
        "## **3. 기본 모델링**\n",
        "\n"
      ]
    },
    {
      "cell_type": "markdown",
      "metadata": {
        "id": "PsIDduJnzt36"
      },
      "source": [
        "* 세부 요구사항\n",
        "    - 모델1 : Base line 모델\n",
        "        * Hidden Layer 없이 모델 생성\n",
        "    - 모델2 : 복잡한 모델 생성\n",
        "        * 최소 5개 이상의 은닉층을 추가한 모델\n",
        "    - 모델3 ~ n : 튜닝 모델\n",
        "        * 학습률, epoch 등 조정\n",
        "        * 모델2에 과적합을 방지하기 위한 규제 기법 추가\n",
        "        * Accuracy 최대화 시키는 모델 생성하기\n",
        "    - (옵션) 각 모델은 최소 5번 반복수행해서 얻은 성능의 평균값을 기록"
      ]
    },
    {
      "cell_type": "code",
      "source": [
        "input_dim = X_train.shape[1]\n",
        "num_classes = len(le.classes_)"
      ],
      "metadata": {
        "id": "nL2DFWuJtiVT",
        "outputId": "ac6ad1c8-a66e-4585-d6b0-6c28b30f2b0a",
        "colab": {
          "base_uri": "https://localhost:8080/",
          "height": 168
        }
      },
      "execution_count": null,
      "outputs": [
        {
          "output_type": "error",
          "ename": "NameError",
          "evalue": "name 'X_train' is not defined",
          "traceback": [
            "\u001b[0;31m---------------------------------------------------------------------------\u001b[0m",
            "\u001b[0;31mNameError\u001b[0m                                 Traceback (most recent call last)",
            "\u001b[0;32m<ipython-input-23-2b8a9dcc8fa9>\u001b[0m in \u001b[0;36m<cell line: 0>\u001b[0;34m()\u001b[0m\n\u001b[0;32m----> 1\u001b[0;31m \u001b[0minput_dim\u001b[0m \u001b[0;34m=\u001b[0m \u001b[0mX_train\u001b[0m\u001b[0;34m.\u001b[0m\u001b[0mshape\u001b[0m\u001b[0;34m[\u001b[0m\u001b[0;36m1\u001b[0m\u001b[0;34m]\u001b[0m\u001b[0;34m\u001b[0m\u001b[0;34m\u001b[0m\u001b[0m\n\u001b[0m\u001b[1;32m      2\u001b[0m \u001b[0mnum_classes\u001b[0m \u001b[0;34m=\u001b[0m \u001b[0mlen\u001b[0m\u001b[0;34m(\u001b[0m\u001b[0mle\u001b[0m\u001b[0;34m.\u001b[0m\u001b[0mclasses_\u001b[0m\u001b[0;34m)\u001b[0m\u001b[0;34m\u001b[0m\u001b[0;34m\u001b[0m\u001b[0m\n",
            "\u001b[0;31mNameError\u001b[0m: name 'X_train' is not defined"
          ]
        }
      ]
    },
    {
      "cell_type": "code",
      "source": [
        "models = []"
      ],
      "metadata": {
        "id": "G-j1G8u8uZqm"
      },
      "execution_count": null,
      "outputs": []
    },
    {
      "cell_type": "markdown",
      "metadata": {
        "id": "WnvECv0azt36"
      },
      "source": [
        "### (1) 모델1 : Hidden Layer 없이 모델 생성"
      ]
    },
    {
      "cell_type": "code",
      "source": [
        "# 모델 설계(keras)\n",
        "input_dim = X_train.shape[1]\n",
        "num_classes = len(le.classes_)\n",
        "\n",
        "models.append(Sequential([\n",
        "    Dense(num_classes, activation='softmax', input_shape=(X_train.shape[1],))\n",
        "]))\n",
        "\n",
        "#softmax:다중분류 모델, Hidden Layer 필요없음"
      ],
      "metadata": {
        "id": "qxfPRtBWh5nE",
        "colab": {
          "base_uri": "https://localhost:8080/"
        },
        "outputId": "4316612f-010b-41f9-d0ef-52063f27b3e0"
      },
      "execution_count": null,
      "outputs": [
        {
          "output_type": "stream",
          "name": "stderr",
          "text": [
            "/usr/local/lib/python3.11/dist-packages/keras/src/layers/core/dense.py:87: UserWarning: Do not pass an `input_shape`/`input_dim` argument to a layer. When using Sequential models, prefer using an `Input(shape)` object as the first layer in the model instead.\n",
            "  super().__init__(activity_regularizer=activity_regularizer, **kwargs)\n"
          ]
        }
      ]
    },
    {
      "cell_type": "code",
      "source": [
        "# 컴파일 및 학습\n",
        "models[0].compile(optimizer='adam',\n",
        "              loss='sparse_categorical_crossentropy',\n",
        "              metrics=['accuracy'])\n",
        "#다중분류모델을 위해 crossentropy 사용"
      ],
      "metadata": {
        "id": "QXS3os6YkuyM"
      },
      "execution_count": null,
      "outputs": []
    },
    {
      "cell_type": "code",
      "source": [
        "models[0].summary()   #모델 요약"
      ],
      "metadata": {
        "colab": {
          "base_uri": "https://localhost:8080/",
          "height": 161
        },
        "id": "pXwW8PtFlNyK",
        "outputId": "81e57e10-48a7-4fba-c70b-3b6a116f6314"
      },
      "execution_count": null,
      "outputs": [
        {
          "output_type": "display_data",
          "data": {
            "text/plain": [
              "\u001b[1mModel: \"sequential\"\u001b[0m\n"
            ],
            "text/html": [
              "<pre style=\"white-space:pre;overflow-x:auto;line-height:normal;font-family:Menlo,'DejaVu Sans Mono',consolas,'Courier New',monospace\"><span style=\"font-weight: bold\">Model: \"sequential\"</span>\n",
              "</pre>\n"
            ]
          },
          "metadata": {}
        },
        {
          "output_type": "display_data",
          "data": {
            "text/plain": [
              "┏━━━━━━━━━━━━━━━━━━━━━━━━━━━━━━━━━┳━━━━━━━━━━━━━━━━━━━━━━━━┳━━━━━━━━━━━━━━━┓\n",
              "┃\u001b[1m \u001b[0m\u001b[1mLayer (type)                   \u001b[0m\u001b[1m \u001b[0m┃\u001b[1m \u001b[0m\u001b[1mOutput Shape          \u001b[0m\u001b[1m \u001b[0m┃\u001b[1m \u001b[0m\u001b[1m      Param #\u001b[0m\u001b[1m \u001b[0m┃\n",
              "┡━━━━━━━━━━━━━━━━━━━━━━━━━━━━━━━━━╇━━━━━━━━━━━━━━━━━━━━━━━━╇━━━━━━━━━━━━━━━┩\n",
              "│ dense (\u001b[38;5;33mDense\u001b[0m)                   │ (\u001b[38;5;45mNone\u001b[0m, \u001b[38;5;34m6\u001b[0m)              │         \u001b[38;5;34m3,372\u001b[0m │\n",
              "└─────────────────────────────────┴────────────────────────┴───────────────┘\n"
            ],
            "text/html": [
              "<pre style=\"white-space:pre;overflow-x:auto;line-height:normal;font-family:Menlo,'DejaVu Sans Mono',consolas,'Courier New',monospace\">┏━━━━━━━━━━━━━━━━━━━━━━━━━━━━━━━━━┳━━━━━━━━━━━━━━━━━━━━━━━━┳━━━━━━━━━━━━━━━┓\n",
              "┃<span style=\"font-weight: bold\"> Layer (type)                    </span>┃<span style=\"font-weight: bold\"> Output Shape           </span>┃<span style=\"font-weight: bold\">       Param # </span>┃\n",
              "┡━━━━━━━━━━━━━━━━━━━━━━━━━━━━━━━━━╇━━━━━━━━━━━━━━━━━━━━━━━━╇━━━━━━━━━━━━━━━┩\n",
              "│ dense (<span style=\"color: #0087ff; text-decoration-color: #0087ff\">Dense</span>)                   │ (<span style=\"color: #00d7ff; text-decoration-color: #00d7ff\">None</span>, <span style=\"color: #00af00; text-decoration-color: #00af00\">6</span>)              │         <span style=\"color: #00af00; text-decoration-color: #00af00\">3,372</span> │\n",
              "└─────────────────────────────────┴────────────────────────┴───────────────┘\n",
              "</pre>\n"
            ]
          },
          "metadata": {}
        },
        {
          "output_type": "display_data",
          "data": {
            "text/plain": [
              "\u001b[1m Total params: \u001b[0m\u001b[38;5;34m3,372\u001b[0m (13.17 KB)\n"
            ],
            "text/html": [
              "<pre style=\"white-space:pre;overflow-x:auto;line-height:normal;font-family:Menlo,'DejaVu Sans Mono',consolas,'Courier New',monospace\"><span style=\"font-weight: bold\"> Total params: </span><span style=\"color: #00af00; text-decoration-color: #00af00\">3,372</span> (13.17 KB)\n",
              "</pre>\n"
            ]
          },
          "metadata": {}
        },
        {
          "output_type": "display_data",
          "data": {
            "text/plain": [
              "\u001b[1m Trainable params: \u001b[0m\u001b[38;5;34m3,372\u001b[0m (13.17 KB)\n"
            ],
            "text/html": [
              "<pre style=\"white-space:pre;overflow-x:auto;line-height:normal;font-family:Menlo,'DejaVu Sans Mono',consolas,'Courier New',monospace\"><span style=\"font-weight: bold\"> Trainable params: </span><span style=\"color: #00af00; text-decoration-color: #00af00\">3,372</span> (13.17 KB)\n",
              "</pre>\n"
            ]
          },
          "metadata": {}
        },
        {
          "output_type": "display_data",
          "data": {
            "text/plain": [
              "\u001b[1m Non-trainable params: \u001b[0m\u001b[38;5;34m0\u001b[0m (0.00 B)\n"
            ],
            "text/html": [
              "<pre style=\"white-space:pre;overflow-x:auto;line-height:normal;font-family:Menlo,'DejaVu Sans Mono',consolas,'Courier New',monospace\"><span style=\"font-weight: bold\"> Non-trainable params: </span><span style=\"color: #00af00; text-decoration-color: #00af00\">0</span> (0.00 B)\n",
              "</pre>\n"
            ]
          },
          "metadata": {}
        }
      ]
    },
    {
      "cell_type": "code",
      "source": [
        "epoch = 5     #학습 횟수"
      ],
      "metadata": {
        "id": "_BzU2B1_ljHB"
      },
      "execution_count": null,
      "outputs": []
    },
    {
      "cell_type": "code",
      "source": [
        "hist = models[0].fit(X_train, y_train,\n",
        "                        validation_data=(X_val, y_val),\n",
        "                        epochs=epoch,\n",
        "                        verbose=1)\n",
        "# validation_data : train 데이터의 일부를 활용, 정확도를 더 올림"
      ],
      "metadata": {
        "colab": {
          "base_uri": "https://localhost:8080/"
        },
        "id": "MjIl2uT5lWj3",
        "outputId": "d1470a4c-a0d0-4229-dcb0-1973aec51ef9"
      },
      "execution_count": null,
      "outputs": [
        {
          "output_type": "stream",
          "name": "stdout",
          "text": [
            "Epoch 1/5\n",
            "\u001b[1m147/147\u001b[0m \u001b[32m━━━━━━━━━━━━━━━━━━━━\u001b[0m\u001b[37m\u001b[0m \u001b[1m1s\u001b[0m 4ms/step - accuracy: 0.4755 - loss: 1.2831 - val_accuracy: 0.8403 - val_loss: 0.7693\n",
            "Epoch 2/5\n",
            "\u001b[1m147/147\u001b[0m \u001b[32m━━━━━━━━━━━━━━━━━━━━\u001b[0m\u001b[37m\u001b[0m \u001b[1m1s\u001b[0m 3ms/step - accuracy: 0.8463 - loss: 0.7004 - val_accuracy: 0.8760 - val_loss: 0.5619\n",
            "Epoch 3/5\n",
            "\u001b[1m147/147\u001b[0m \u001b[32m━━━━━━━━━━━━━━━━━━━━\u001b[0m\u001b[37m\u001b[0m \u001b[1m1s\u001b[0m 3ms/step - accuracy: 0.8789 - loss: 0.5271 - val_accuracy: 0.8912 - val_loss: 0.4609\n",
            "Epoch 4/5\n",
            "\u001b[1m147/147\u001b[0m \u001b[32m━━━━━━━━━━━━━━━━━━━━\u001b[0m\u001b[37m\u001b[0m \u001b[1m1s\u001b[0m 2ms/step - accuracy: 0.9001 - loss: 0.4368 - val_accuracy: 0.8989 - val_loss: 0.3986\n",
            "Epoch 5/5\n",
            "\u001b[1m147/147\u001b[0m \u001b[32m━━━━━━━━━━━━━━━━━━━━\u001b[0m\u001b[37m\u001b[0m \u001b[1m0s\u001b[0m 2ms/step - accuracy: 0.9043 - loss: 0.3830 - val_accuracy: 0.9167 - val_loss: 0.3529\n"
          ]
        }
      ]
    },
    {
      "cell_type": "code",
      "source": [
        "dl_history_plot(hist.history)\n",
        "#히스토그램, 시각화 표현"
      ],
      "metadata": {
        "colab": {
          "base_uri": "https://localhost:8080/",
          "height": 471
        },
        "id": "jWXpKHeAl4HN",
        "outputId": "4ec05784-98df-4354-9845-9fe62995a027"
      },
      "execution_count": null,
      "outputs": [
        {
          "output_type": "display_data",
          "data": {
            "text/plain": [
              "<Figure size 1000x600 with 1 Axes>"
            ],
            "image/png": "[encoded data removed]"
          },
          "metadata": {}
        }
      ]
    },
    {
      "cell_type": "code",
      "source": [
        "test_loss, test_acc = models[0].evaluate(X_test, y_test)\n",
        "print('Test accuracy:', test_acc)\n",
        "\n",
        "#테스트 정확도 파악"
      ],
      "metadata": {
        "colab": {
          "base_uri": "https://localhost:8080/"
        },
        "id": "sTy92FFqpd-Q",
        "outputId": "9c382423-d9ca-461d-ebb2-f35bb48e605b"
      },
      "execution_count": null,
      "outputs": [
        {
          "output_type": "stream",
          "name": "stdout",
          "text": [
            "\u001b[1m46/46\u001b[0m \u001b[32m━━━━━━━━━━━━━━━━━━━━\u001b[0m\u001b[37m\u001b[0m \u001b[1m0s\u001b[0m 2ms/step - accuracy: 0.9020 - loss: 0.3489\n",
            "Test accuracy: 0.9041468501091003\n"
          ]
        }
      ]
    },
    {
      "cell_type": "code",
      "source": [
        "hist.history.keys()\n",
        "\n",
        "#딕셔너리 형태로 저장"
      ],
      "metadata": {
        "colab": {
          "base_uri": "https://localhost:8080/"
        },
        "id": "lnMRFz8nqVLM",
        "outputId": "c6d6406a-d004-4d48-aaee-6362d4795dab"
      },
      "execution_count": null,
      "outputs": [
        {
          "output_type": "execute_result",
          "data": {
            "text/plain": [
              "dict_keys(['accuracy', 'loss', 'val_accuracy', 'val_loss'])"
            ]
          },
          "metadata": {},
          "execution_count": 28
        }
      ]
    },
    {
      "cell_type": "code",
      "execution_count": null,
      "metadata": {
        "colab": {
          "base_uri": "https://localhost:8080/"
        },
        "id": "K6wrd9KDQ3JP",
        "outputId": "f10ba4f4-2a9f-487a-8c5e-26c3aa05fe44"
      },
      "outputs": [
        {
          "output_type": "execute_result",
          "data": {
            "text/plain": [
              "0.8356292605400085"
            ]
          },
          "metadata": {},
          "execution_count": 29
        }
      ],
      "source": [
        "#(옵션) 모델1번을 최소 5번 반복수행해서 얻은 성능의 평균값을 기록해보자!\n",
        "sum(hist.history['accuracy']) / 5\n",
        "\n",
        "#반복수행해서 얻은 성능의 평균값"
      ]
    },
    {
      "cell_type": "markdown",
      "metadata": {
        "id": "howmy2pdOUwh"
      },
      "source": [
        "### (2) 모델2 : 최소 5개 이상의 은닉층을 추가한 모델"
      ]
    },
    {
      "cell_type": "code",
      "execution_count": null,
      "metadata": {
        "id": "4RbzxM6fz9ji"
      },
      "outputs": [],
      "source": [
        "# 모델 설계(keras)\n",
        "input_dim = X_train.shape[1]\n",
        "num_classes = len(le.classes_)\n",
        "\n",
        "models.append(Sequential([\n",
        "    Dense(64, activation='relu', input_shape=(X_train.shape[1],)),\n",
        "    Dense(32, activation='relu', input_shape=(64,)),\n",
        "    Dense(16, activation='relu', input_shape=(32,)),\n",
        "    Dense(8, activation='relu', input_shape=(16,)),\n",
        "    Dense(4, activation='relu', input_shape=(8,)),    #Dense layer 코드 사용 keras 코드\n",
        "    Dense(num_classes, activation='softmax')\n",
        "]))\n",
        "\n"
      ]
    },
    {
      "cell_type": "code",
      "execution_count": null,
      "metadata": {
        "id": "9nm0jxxVz9ji"
      },
      "outputs": [],
      "source": [
        "# 컴파일 및 학습\n",
        "models[1].compile(optimizer='adam',\n",
        "              loss='sparse_categorical_crossentropy',\n",
        "              metrics=['accuracy'])"
      ]
    },
    {
      "cell_type": "code",
      "source": [
        "models[1].summary()"
      ],
      "metadata": {
        "colab": {
          "base_uri": "https://localhost:8080/",
          "height": 321
        },
        "id": "Zn5YCngmnmyP",
        "outputId": "5e5cf35a-7adb-491b-f937-928d32c65913"
      },
      "execution_count": null,
      "outputs": [
        {
          "output_type": "display_data",
          "data": {
            "text/plain": [
              "\u001b[1mModel: \"sequential_1\"\u001b[0m\n"
            ],
            "text/html": [
              "<pre style=\"white-space:pre;overflow-x:auto;line-height:normal;font-family:Menlo,'DejaVu Sans Mono',consolas,'Courier New',monospace\"><span style=\"font-weight: bold\">Model: \"sequential_1\"</span>\n",
              "</pre>\n"
            ]
          },
          "metadata": {}
        },
        {
          "output_type": "display_data",
          "data": {
            "text/plain": [
              "┏━━━━━━━━━━━━━━━━━━━━━━━━━━━━━━━━━┳━━━━━━━━━━━━━━━━━━━━━━━━┳━━━━━━━━━━━━━━━┓\n",
              "┃\u001b[1m \u001b[0m\u001b[1mLayer (type)                   \u001b[0m\u001b[1m \u001b[0m┃\u001b[1m \u001b[0m\u001b[1mOutput Shape          \u001b[0m\u001b[1m \u001b[0m┃\u001b[1m \u001b[0m\u001b[1m      Param #\u001b[0m\u001b[1m \u001b[0m┃\n",
              "┡━━━━━━━━━━━━━━━━━━━━━━━━━━━━━━━━━╇━━━━━━━━━━━━━━━━━━━━━━━━╇━━━━━━━━━━━━━━━┩\n",
              "│ dense_1 (\u001b[38;5;33mDense\u001b[0m)                 │ (\u001b[38;5;45mNone\u001b[0m, \u001b[38;5;34m64\u001b[0m)             │        \u001b[38;5;34m35,968\u001b[0m │\n",
              "├─────────────────────────────────┼────────────────────────┼───────────────┤\n",
              "│ dense_2 (\u001b[38;5;33mDense\u001b[0m)                 │ (\u001b[38;5;45mNone\u001b[0m, \u001b[38;5;34m32\u001b[0m)             │         \u001b[38;5;34m2,080\u001b[0m │\n",
              "├─────────────────────────────────┼────────────────────────┼───────────────┤\n",
              "│ dense_3 (\u001b[38;5;33mDense\u001b[0m)                 │ (\u001b[38;5;45mNone\u001b[0m, \u001b[38;5;34m16\u001b[0m)             │           \u001b[38;5;34m528\u001b[0m │\n",
              "├─────────────────────────────────┼────────────────────────┼───────────────┤\n",
              "│ dense_4 (\u001b[38;5;33mDense\u001b[0m)                 │ (\u001b[38;5;45mNone\u001b[0m, \u001b[38;5;34m8\u001b[0m)              │           \u001b[38;5;34m136\u001b[0m │\n",
              "├─────────────────────────────────┼────────────────────────┼───────────────┤\n",
              "│ dense_5 (\u001b[38;5;33mDense\u001b[0m)                 │ (\u001b[38;5;45mNone\u001b[0m, \u001b[38;5;34m4\u001b[0m)              │            \u001b[38;5;34m36\u001b[0m │\n",
              "├─────────────────────────────────┼────────────────────────┼───────────────┤\n",
              "│ dense_6 (\u001b[38;5;33mDense\u001b[0m)                 │ (\u001b[38;5;45mNone\u001b[0m, \u001b[38;5;34m6\u001b[0m)              │            \u001b[38;5;34m30\u001b[0m │\n",
              "└─────────────────────────────────┴────────────────────────┴───────────────┘\n"
            ],
            "text/html": [
              "<pre style=\"white-space:pre;overflow-x:auto;line-height:normal;font-family:Menlo,'DejaVu Sans Mono',consolas,'Courier New',monospace\">┏━━━━━━━━━━━━━━━━━━━━━━━━━━━━━━━━━┳━━━━━━━━━━━━━━━━━━━━━━━━┳━━━━━━━━━━━━━━━┓\n",
              "┃<span style=\"font-weight: bold\"> Layer (type)                    </span>┃<span style=\"font-weight: bold\"> Output Shape           </span>┃<span style=\"font-weight: bold\">       Param # </span>┃\n",
              "┡━━━━━━━━━━━━━━━━━━━━━━━━━━━━━━━━━╇━━━━━━━━━━━━━━━━━━━━━━━━╇━━━━━━━━━━━━━━━┩\n",
              "│ dense_1 (<span style=\"color: #0087ff; text-decoration-color: #0087ff\">Dense</span>)                 │ (<span style=\"color: #00d7ff; text-decoration-color: #00d7ff\">None</span>, <span style=\"color: #00af00; text-decoration-color: #00af00\">64</span>)             │        <span style=\"color: #00af00; text-decoration-color: #00af00\">35,968</span> │\n",
              "├─────────────────────────────────┼────────────────────────┼───────────────┤\n",
              "│ dense_2 (<span style=\"color: #0087ff; text-decoration-color: #0087ff\">Dense</span>)                 │ (<span style=\"color: #00d7ff; text-decoration-color: #00d7ff\">None</span>, <span style=\"color: #00af00; text-decoration-color: #00af00\">32</span>)             │         <span style=\"color: #00af00; text-decoration-color: #00af00\">2,080</span> │\n",
              "├─────────────────────────────────┼────────────────────────┼───────────────┤\n",
              "│ dense_3 (<span style=\"color: #0087ff; text-decoration-color: #0087ff\">Dense</span>)                 │ (<span style=\"color: #00d7ff; text-decoration-color: #00d7ff\">None</span>, <span style=\"color: #00af00; text-decoration-color: #00af00\">16</span>)             │           <span style=\"color: #00af00; text-decoration-color: #00af00\">528</span> │\n",
              "├─────────────────────────────────┼────────────────────────┼───────────────┤\n",
              "│ dense_4 (<span style=\"color: #0087ff; text-decoration-color: #0087ff\">Dense</span>)                 │ (<span style=\"color: #00d7ff; text-decoration-color: #00d7ff\">None</span>, <span style=\"color: #00af00; text-decoration-color: #00af00\">8</span>)              │           <span style=\"color: #00af00; text-decoration-color: #00af00\">136</span> │\n",
              "├─────────────────────────────────┼────────────────────────┼───────────────┤\n",
              "│ dense_5 (<span style=\"color: #0087ff; text-decoration-color: #0087ff\">Dense</span>)                 │ (<span style=\"color: #00d7ff; text-decoration-color: #00d7ff\">None</span>, <span style=\"color: #00af00; text-decoration-color: #00af00\">4</span>)              │            <span style=\"color: #00af00; text-decoration-color: #00af00\">36</span> │\n",
              "├─────────────────────────────────┼────────────────────────┼───────────────┤\n",
              "│ dense_6 (<span style=\"color: #0087ff; text-decoration-color: #0087ff\">Dense</span>)                 │ (<span style=\"color: #00d7ff; text-decoration-color: #00d7ff\">None</span>, <span style=\"color: #00af00; text-decoration-color: #00af00\">6</span>)              │            <span style=\"color: #00af00; text-decoration-color: #00af00\">30</span> │\n",
              "└─────────────────────────────────┴────────────────────────┴───────────────┘\n",
              "</pre>\n"
            ]
          },
          "metadata": {}
        },
        {
          "output_type": "display_data",
          "data": {
            "text/plain": [
              "\u001b[1m Total params: \u001b[0m\u001b[38;5;34m38,778\u001b[0m (151.48 KB)\n"
            ],
            "text/html": [
              "<pre style=\"white-space:pre;overflow-x:auto;line-height:normal;font-family:Menlo,'DejaVu Sans Mono',consolas,'Courier New',monospace\"><span style=\"font-weight: bold\"> Total params: </span><span style=\"color: #00af00; text-decoration-color: #00af00\">38,778</span> (151.48 KB)\n",
              "</pre>\n"
            ]
          },
          "metadata": {}
        },
        {
          "output_type": "display_data",
          "data": {
            "text/plain": [
              "\u001b[1m Trainable params: \u001b[0m\u001b[38;5;34m38,778\u001b[0m (151.48 KB)\n"
            ],
            "text/html": [
              "<pre style=\"white-space:pre;overflow-x:auto;line-height:normal;font-family:Menlo,'DejaVu Sans Mono',consolas,'Courier New',monospace\"><span style=\"font-weight: bold\"> Trainable params: </span><span style=\"color: #00af00; text-decoration-color: #00af00\">38,778</span> (151.48 KB)\n",
              "</pre>\n"
            ]
          },
          "metadata": {}
        },
        {
          "output_type": "display_data",
          "data": {
            "text/plain": [
              "\u001b[1m Non-trainable params: \u001b[0m\u001b[38;5;34m0\u001b[0m (0.00 B)\n"
            ],
            "text/html": [
              "<pre style=\"white-space:pre;overflow-x:auto;line-height:normal;font-family:Menlo,'DejaVu Sans Mono',consolas,'Courier New',monospace\"><span style=\"font-weight: bold\"> Non-trainable params: </span><span style=\"color: #00af00; text-decoration-color: #00af00\">0</span> (0.00 B)\n",
              "</pre>\n"
            ]
          },
          "metadata": {}
        }
      ]
    },
    {
      "cell_type": "code",
      "source": [
        "hist = models[1].fit(X_train, y_train,\n",
        "                        validation_data=(X_val, y_val),\n",
        "                        epochs=epoch,\n",
        "                        verbose=1)\n",
        "\n",
        "# validation_data : train 데이터의 일부를 활용, 정확도를 더 올림"
      ],
      "metadata": {
        "colab": {
          "base_uri": "https://localhost:8080/"
        },
        "id": "34V5APFHnvY7",
        "outputId": "8d9f2711-248f-48c6-b526-3981244fb5b0"
      },
      "execution_count": null,
      "outputs": [
        {
          "output_type": "stream",
          "name": "stdout",
          "text": [
            "Epoch 1/5\n",
            "\u001b[1m147/147\u001b[0m \u001b[32m━━━━━━━━━━━━━━━━━━━━\u001b[0m\u001b[37m\u001b[0m \u001b[1m3s\u001b[0m 6ms/step - accuracy: 0.3903 - loss: 1.4673 - val_accuracy: 0.4435 - val_loss: 1.0512\n",
            "Epoch 2/5\n",
            "\u001b[1m147/147\u001b[0m \u001b[32m━━━━━━━━━━━━━━━━━━━━\u001b[0m\u001b[37m\u001b[0m \u001b[1m1s\u001b[0m 5ms/step - accuracy: 0.5486 - loss: 0.8852 - val_accuracy: 0.5905 - val_loss: 0.7376\n",
            "Epoch 3/5\n",
            "\u001b[1m147/147\u001b[0m \u001b[32m━━━━━━━━━━━━━━━━━━━━\u001b[0m\u001b[37m\u001b[0m \u001b[1m1s\u001b[0m 5ms/step - accuracy: 0.6244 - loss: 0.6851 - val_accuracy: 0.6117 - val_loss: 0.6762\n",
            "Epoch 4/5\n",
            "\u001b[1m147/147\u001b[0m \u001b[32m━━━━━━━━━━━━━━━━━━━━\u001b[0m\u001b[37m\u001b[0m \u001b[1m1s\u001b[0m 5ms/step - accuracy: 0.6894 - loss: 0.6122 - val_accuracy: 0.9065 - val_loss: 0.2698\n",
            "Epoch 5/5\n",
            "\u001b[1m147/147\u001b[0m \u001b[32m━━━━━━━━━━━━━━━━━━━━\u001b[0m\u001b[37m\u001b[0m \u001b[1m1s\u001b[0m 3ms/step - accuracy: 0.9099 - loss: 0.2351 - val_accuracy: 0.9261 - val_loss: 0.1805\n"
          ]
        }
      ]
    },
    {
      "cell_type": "code",
      "execution_count": null,
      "metadata": {
        "id": "OKOXibRCz9jj",
        "colab": {
          "base_uri": "https://localhost:8080/",
          "height": 471
        },
        "outputId": "85661257-7c82-4e7f-e007-4e99dfcdfd88"
      },
      "outputs": [
        {
          "output_type": "display_data",
          "data": {
            "text/plain": [
              "<Figure size 1000x600 with 1 Axes>"
            ],
            "image/png": "[encoded data removed]"
          },
          "metadata": {}
        }
      ],
      "source": [
        "# 학습곡선\n",
        "dl_history_plot(hist.history)\n",
        "\n",
        "#학습 곡선 추가"
      ]
    },
    {
      "cell_type": "code",
      "execution_count": null,
      "metadata": {
        "id": "LGXSnT6bz9jj",
        "colab": {
          "base_uri": "https://localhost:8080/"
        },
        "outputId": "6f30b294-77b4-43da-e25f-e78338879e22"
      },
      "outputs": [
        {
          "output_type": "stream",
          "name": "stdout",
          "text": [
            "\u001b[1m46/46\u001b[0m \u001b[32m━━━━━━━━━━━━━━━━━━━━\u001b[0m\u001b[37m\u001b[0m \u001b[1m0s\u001b[0m 2ms/step - accuracy: 0.9266 - loss: 0.1742\n",
            "Test accuracy: 0.9252209663391113\n"
          ]
        }
      ],
      "source": [
        "# 예측 및 평가\n",
        "test_loss, test_acc = models[1].evaluate(X_test, y_test)\n",
        "print('Test accuracy:', test_acc)\n",
        "\n",
        "#모델 예측 및 평가 정확도가 매우 높음"
      ]
    },
    {
      "cell_type": "code",
      "source": [
        "sum(hist.history['accuracy']) / 5\n",
        "\n",
        "#정확도 총합"
      ],
      "metadata": {
        "id": "GEj9hqKWrUP_",
        "outputId": "384e3150-290c-4c3b-ee10-4beafd75c263",
        "colab": {
          "base_uri": "https://localhost:8080/"
        }
      },
      "execution_count": null,
      "outputs": [
        {
          "output_type": "execute_result",
          "data": {
            "text/plain": [
              "0.6614370763301849"
            ]
          },
          "metadata": {},
          "execution_count": 36
        }
      ]
    },
    {
      "cell_type": "markdown",
      "metadata": {
        "id": "lId5dvDwQGEi"
      },
      "source": [
        "### (3) 모델3 : 학습률, epoch 등 조정"
      ]
    },
    {
      "cell_type": "code",
      "execution_count": null,
      "metadata": {
        "id": "Zba9A_jRz-6E"
      },
      "outputs": [],
      "source": [
        "# 모델 설계(keras)\n",
        "models.append(Sequential([\n",
        "    Dense(64, activation='relu', input_shape=(X_train.shape[1],)),\n",
        "    Dense(32, activation='relu', input_shape=(64,)),\n",
        "    Dense(16, activation='relu', input_shape=(32,)),   # 학습률 조정\n",
        "    Dense(num_classes, activation='softmax')\n",
        "]))\n",
        "\n",
        "#keras 코드  활용, softmax 다중분류모델"
      ]
    },
    {
      "cell_type": "code",
      "execution_count": null,
      "metadata": {
        "id": "GJsLIziOz-6F"
      },
      "outputs": [],
      "source": [
        "# 컴파일 및 학습\n",
        "models[2].compile(optimizer='adam',\n",
        "              loss='sparse_categorical_crossentropy',\n",
        "              metrics=['accuracy'])\n",
        "#crossentropy 사용"
      ]
    },
    {
      "cell_type": "code",
      "source": [
        "models[2].summary()\n",
        "\n",
        "hist = models[2].fit(X_train, y_train,\n",
        "                        validation_data=(X_val, y_val),\n",
        "                        epochs=10,\n",
        "                        verbose=1)\n",
        "\n",
        "# validation_data 정확도를 높임 아래를 살펴보면 정확도가 매우 높다는 것을 알 수 있다"
      ],
      "metadata": {
        "colab": {
          "base_uri": "https://localhost:8080/",
          "height": 651
        },
        "id": "hD6iHb4osTVT",
        "outputId": "4b1930e0-961d-4385-a3fb-adb87515337c"
      },
      "execution_count": null,
      "outputs": [
        {
          "output_type": "display_data",
          "data": {
            "text/plain": [
              "\u001b[1mModel: \"sequential_2\"\u001b[0m\n"
            ],
            "text/html": [
              "<pre style=\"white-space:pre;overflow-x:auto;line-height:normal;font-family:Menlo,'DejaVu Sans Mono',consolas,'Courier New',monospace\"><span style=\"font-weight: bold\">Model: \"sequential_2\"</span>\n",
              "</pre>\n"
            ]
          },
          "metadata": {}
        },
        {
          "output_type": "display_data",
          "data": {
            "text/plain": [
              "┏━━━━━━━━━━━━━━━━━━━━━━━━━━━━━━━━━┳━━━━━━━━━━━━━━━━━━━━━━━━┳━━━━━━━━━━━━━━━┓\n",
              "┃\u001b[1m \u001b[0m\u001b[1mLayer (type)                   \u001b[0m\u001b[1m \u001b[0m┃\u001b[1m \u001b[0m\u001b[1mOutput Shape          \u001b[0m\u001b[1m \u001b[0m┃\u001b[1m \u001b[0m\u001b[1m      Param #\u001b[0m\u001b[1m \u001b[0m┃\n",
              "┡━━━━━━━━━━━━━━━━━━━━━━━━━━━━━━━━━╇━━━━━━━━━━━━━━━━━━━━━━━━╇━━━━━━━━━━━━━━━┩\n",
              "│ dense_7 (\u001b[38;5;33mDense\u001b[0m)                 │ (\u001b[38;5;45mNone\u001b[0m, \u001b[38;5;34m64\u001b[0m)             │        \u001b[38;5;34m35,968\u001b[0m │\n",
              "├─────────────────────────────────┼────────────────────────┼───────────────┤\n",
              "│ dense_8 (\u001b[38;5;33mDense\u001b[0m)                 │ (\u001b[38;5;45mNone\u001b[0m, \u001b[38;5;34m32\u001b[0m)             │         \u001b[38;5;34m2,080\u001b[0m │\n",
              "├─────────────────────────────────┼────────────────────────┼───────────────┤\n",
              "│ dense_9 (\u001b[38;5;33mDense\u001b[0m)                 │ (\u001b[38;5;45mNone\u001b[0m, \u001b[38;5;34m16\u001b[0m)             │           \u001b[38;5;34m528\u001b[0m │\n",
              "├─────────────────────────────────┼────────────────────────┼───────────────┤\n",
              "│ dense_10 (\u001b[38;5;33mDense\u001b[0m)                │ (\u001b[38;5;45mNone\u001b[0m, \u001b[38;5;34m6\u001b[0m)              │           \u001b[38;5;34m102\u001b[0m │\n",
              "└─────────────────────────────────┴────────────────────────┴───────────────┘\n"
            ],
            "text/html": [
              "<pre style=\"white-space:pre;overflow-x:auto;line-height:normal;font-family:Menlo,'DejaVu Sans Mono',consolas,'Courier New',monospace\">┏━━━━━━━━━━━━━━━━━━━━━━━━━━━━━━━━━┳━━━━━━━━━━━━━━━━━━━━━━━━┳━━━━━━━━━━━━━━━┓\n",
              "┃<span style=\"font-weight: bold\"> Layer (type)                    </span>┃<span style=\"font-weight: bold\"> Output Shape           </span>┃<span style=\"font-weight: bold\">       Param # </span>┃\n",
              "┡━━━━━━━━━━━━━━━━━━━━━━━━━━━━━━━━━╇━━━━━━━━━━━━━━━━━━━━━━━━╇━━━━━━━━━━━━━━━┩\n",
              "│ dense_7 (<span style=\"color: #0087ff; text-decoration-color: #0087ff\">Dense</span>)                 │ (<span style=\"color: #00d7ff; text-decoration-color: #00d7ff\">None</span>, <span style=\"color: #00af00; text-decoration-color: #00af00\">64</span>)             │        <span style=\"color: #00af00; text-decoration-color: #00af00\">35,968</span> │\n",
              "├─────────────────────────────────┼────────────────────────┼───────────────┤\n",
              "│ dense_8 (<span style=\"color: #0087ff; text-decoration-color: #0087ff\">Dense</span>)                 │ (<span style=\"color: #00d7ff; text-decoration-color: #00d7ff\">None</span>, <span style=\"color: #00af00; text-decoration-color: #00af00\">32</span>)             │         <span style=\"color: #00af00; text-decoration-color: #00af00\">2,080</span> │\n",
              "├─────────────────────────────────┼────────────────────────┼───────────────┤\n",
              "│ dense_9 (<span style=\"color: #0087ff; text-decoration-color: #0087ff\">Dense</span>)                 │ (<span style=\"color: #00d7ff; text-decoration-color: #00d7ff\">None</span>, <span style=\"color: #00af00; text-decoration-color: #00af00\">16</span>)             │           <span style=\"color: #00af00; text-decoration-color: #00af00\">528</span> │\n",
              "├─────────────────────────────────┼────────────────────────┼───────────────┤\n",
              "│ dense_10 (<span style=\"color: #0087ff; text-decoration-color: #0087ff\">Dense</span>)                │ (<span style=\"color: #00d7ff; text-decoration-color: #00d7ff\">None</span>, <span style=\"color: #00af00; text-decoration-color: #00af00\">6</span>)              │           <span style=\"color: #00af00; text-decoration-color: #00af00\">102</span> │\n",
              "└─────────────────────────────────┴────────────────────────┴───────────────┘\n",
              "</pre>\n"
            ]
          },
          "metadata": {}
        },
        {
          "output_type": "display_data",
          "data": {
            "text/plain": [
              "\u001b[1m Total params: \u001b[0m\u001b[38;5;34m38,678\u001b[0m (151.09 KB)\n"
            ],
            "text/html": [
              "<pre style=\"white-space:pre;overflow-x:auto;line-height:normal;font-family:Menlo,'DejaVu Sans Mono',consolas,'Courier New',monospace\"><span style=\"font-weight: bold\"> Total params: </span><span style=\"color: #00af00; text-decoration-color: #00af00\">38,678</span> (151.09 KB)\n",
              "</pre>\n"
            ]
          },
          "metadata": {}
        },
        {
          "output_type": "display_data",
          "data": {
            "text/plain": [
              "\u001b[1m Trainable params: \u001b[0m\u001b[38;5;34m38,678\u001b[0m (151.09 KB)\n"
            ],
            "text/html": [
              "<pre style=\"white-space:pre;overflow-x:auto;line-height:normal;font-family:Menlo,'DejaVu Sans Mono',consolas,'Courier New',monospace\"><span style=\"font-weight: bold\"> Trainable params: </span><span style=\"color: #00af00; text-decoration-color: #00af00\">38,678</span> (151.09 KB)\n",
              "</pre>\n"
            ]
          },
          "metadata": {}
        },
        {
          "output_type": "display_data",
          "data": {
            "text/plain": [
              "\u001b[1m Non-trainable params: \u001b[0m\u001b[38;5;34m0\u001b[0m (0.00 B)\n"
            ],
            "text/html": [
              "<pre style=\"white-space:pre;overflow-x:auto;line-height:normal;font-family:Menlo,'DejaVu Sans Mono',consolas,'Courier New',monospace\"><span style=\"font-weight: bold\"> Non-trainable params: </span><span style=\"color: #00af00; text-decoration-color: #00af00\">0</span> (0.00 B)\n",
              "</pre>\n"
            ]
          },
          "metadata": {}
        },
        {
          "output_type": "stream",
          "name": "stdout",
          "text": [
            "Epoch 1/10\n",
            "\u001b[1m147/147\u001b[0m \u001b[32m━━━━━━━━━━━━━━━━━━━━\u001b[0m\u001b[37m\u001b[0m \u001b[1m2s\u001b[0m 5ms/step - accuracy: 0.5741 - loss: 1.2007 - val_accuracy: 0.8037 - val_loss: 0.4602\n",
            "Epoch 2/10\n",
            "\u001b[1m147/147\u001b[0m \u001b[32m━━━━━━━━━━━━━━━━━━━━\u001b[0m\u001b[37m\u001b[0m \u001b[1m0s\u001b[0m 3ms/step - accuracy: 0.8667 - loss: 0.3627 - val_accuracy: 0.9082 - val_loss: 0.2730\n",
            "Epoch 3/10\n",
            "\u001b[1m147/147\u001b[0m \u001b[32m━━━━━━━━━━━━━━━━━━━━\u001b[0m\u001b[37m\u001b[0m \u001b[1m0s\u001b[0m 3ms/step - accuracy: 0.9144 - loss: 0.2332 - val_accuracy: 0.9235 - val_loss: 0.2109\n",
            "Epoch 4/10\n",
            "\u001b[1m147/147\u001b[0m \u001b[32m━━━━━━━━━━━━━━━━━━━━\u001b[0m\u001b[37m\u001b[0m \u001b[1m1s\u001b[0m 3ms/step - accuracy: 0.9282 - loss: 0.1921 - val_accuracy: 0.8946 - val_loss: 0.2210\n",
            "Epoch 5/10\n",
            "\u001b[1m147/147\u001b[0m \u001b[32m━━━━━━━━━━━━━━━━━━━━\u001b[0m\u001b[37m\u001b[0m \u001b[1m0s\u001b[0m 3ms/step - accuracy: 0.9456 - loss: 0.1536 - val_accuracy: 0.9337 - val_loss: 0.1591\n",
            "Epoch 6/10\n",
            "\u001b[1m147/147\u001b[0m \u001b[32m━━━━━━━━━━━━━━━━━━━━\u001b[0m\u001b[37m\u001b[0m \u001b[1m1s\u001b[0m 3ms/step - accuracy: 0.9481 - loss: 0.1327 - val_accuracy: 0.9507 - val_loss: 0.1233\n",
            "Epoch 7/10\n",
            "\u001b[1m147/147\u001b[0m \u001b[32m━━━━━━━━━━━━━━━━━━━━\u001b[0m\u001b[37m\u001b[0m \u001b[1m1s\u001b[0m 3ms/step - accuracy: 0.9612 - loss: 0.1023 - val_accuracy: 0.9660 - val_loss: 0.0932\n",
            "Epoch 8/10\n",
            "\u001b[1m147/147\u001b[0m \u001b[32m━━━━━━━━━━━━━━━━━━━━\u001b[0m\u001b[37m\u001b[0m \u001b[1m1s\u001b[0m 3ms/step - accuracy: 0.9684 - loss: 0.0860 - val_accuracy: 0.9686 - val_loss: 0.0813\n",
            "Epoch 9/10\n",
            "\u001b[1m147/147\u001b[0m \u001b[32m━━━━━━━━━━━━━━━━━━━━\u001b[0m\u001b[37m\u001b[0m \u001b[1m1s\u001b[0m 3ms/step - accuracy: 0.9693 - loss: 0.0846 - val_accuracy: 0.9575 - val_loss: 0.1136\n",
            "Epoch 10/10\n",
            "\u001b[1m147/147\u001b[0m \u001b[32m━━━━━━━━━━━━━━━━━━━━\u001b[0m\u001b[37m\u001b[0m \u001b[1m1s\u001b[0m 3ms/step - accuracy: 0.9742 - loss: 0.0740 - val_accuracy: 0.9711 - val_loss: 0.0742\n"
          ]
        }
      ]
    },
    {
      "cell_type": "code",
      "execution_count": null,
      "metadata": {
        "id": "gwXb2CnFz-6G",
        "colab": {
          "base_uri": "https://localhost:8080/",
          "height": 471
        },
        "outputId": "a76bc788-3e58-4db0-eab7-bd8835678238"
      },
      "outputs": [
        {
          "output_type": "display_data",
          "data": {
            "text/plain": [
              "<Figure size 1000x600 with 1 Axes>"
            ],
            "image/png": "[encoded data removed]"
          },
          "metadata": {}
        }
      ],
      "source": [
        "# 학습곡선\n",
        "dl_history_plot(hist.history)"
      ]
    },
    {
      "cell_type": "code",
      "execution_count": null,
      "metadata": {
        "id": "5AoGDqnvz-6G",
        "colab": {
          "base_uri": "https://localhost:8080/"
        },
        "outputId": "f79ed010-b61a-4839-ad75-ab3f41bc5787"
      },
      "outputs": [
        {
          "output_type": "stream",
          "name": "stdout",
          "text": [
            "\u001b[1m46/46\u001b[0m \u001b[32m━━━━━━━━━━━━━━━━━━━━\u001b[0m\u001b[37m\u001b[0m \u001b[1m0s\u001b[0m 2ms/step - accuracy: 0.9709 - loss: 0.0933\n",
            "Test accuracy: 0.96872878074646\n"
          ]
        }
      ],
      "source": [
        "# 예측 및 평가\n",
        "test_loss, test_acc = models[2].evaluate(X_test, y_test)\n",
        "print('Test accuracy:', test_acc)"
      ]
    },
    {
      "cell_type": "code",
      "source": [
        "sum(hist.history['accuracy']) / 10"
      ],
      "metadata": {
        "colab": {
          "base_uri": "https://localhost:8080/"
        },
        "id": "5qhrbp8UshpZ",
        "outputId": "95b71513-7b26-489b-e827-b5460382348d"
      },
      "execution_count": null,
      "outputs": [
        {
          "output_type": "execute_result",
          "data": {
            "text/plain": [
              "0.9215348660945892"
            ]
          },
          "metadata": {},
          "execution_count": 42
        }
      ]
    },
    {
      "cell_type": "markdown",
      "metadata": {
        "id": "kSjKuMEbv1vK"
      },
      "source": [
        "### (4) 모델4 :  학습률, epoch 등 조정"
      ]
    },
    {
      "cell_type": "code",
      "execution_count": null,
      "metadata": {
        "id": "0DnEt4SR0AH7"
      },
      "outputs": [],
      "source": [
        "# 모델 설계(keras)\n",
        "models.append(Sequential([\n",
        "    Dense(64, activation='relu', input_shape=(X_train.shape[1],)),\n",
        "    Dropout(0.5),\n",
        "    Dense(32, activation='relu', input_shape=(64,)),\n",
        "    Dense(16, activation='relu', input_shape=(32,)),\n",
        "    Dense(num_classes, activation='softmax')\n",
        "]))"
      ]
    },
    {
      "cell_type": "code",
      "execution_count": null,
      "metadata": {
        "id": "JKW9t5-b0AH8"
      },
      "outputs": [],
      "source": [
        "# 컴파일 및 학습\n",
        "models[3].compile(optimizer='adam',\n",
        "              loss='sparse_categorical_crossentropy',\n",
        "              metrics=['accuracy'])"
      ]
    },
    {
      "cell_type": "code",
      "source": [
        "models[3].summary()\n",
        "\n",
        "hist = models[3].fit(X_train, y_train,\n",
        "                        validation_data=(X_val, y_val),\n",
        "                        epochs=10,\n",
        "                        verbose=1)\n",
        "\n"
      ],
      "metadata": {
        "colab": {
          "base_uri": "https://localhost:8080/",
          "height": 683
        },
        "id": "cDYtK9AetZP8",
        "outputId": "c2c97e79-6652-40fa-ad27-fa63d0c902db"
      },
      "execution_count": null,
      "outputs": [
        {
          "output_type": "display_data",
          "data": {
            "text/plain": [
              "\u001b[1mModel: \"sequential_3\"\u001b[0m\n"
            ],
            "text/html": [
              "<pre style=\"white-space:pre;overflow-x:auto;line-height:normal;font-family:Menlo,'DejaVu Sans Mono',consolas,'Courier New',monospace\"><span style=\"font-weight: bold\">Model: \"sequential_3\"</span>\n",
              "</pre>\n"
            ]
          },
          "metadata": {}
        },
        {
          "output_type": "display_data",
          "data": {
            "text/plain": [
              "┏━━━━━━━━━━━━━━━━━━━━━━━━━━━━━━━━━┳━━━━━━━━━━━━━━━━━━━━━━━━┳━━━━━━━━━━━━━━━┓\n",
              "┃\u001b[1m \u001b[0m\u001b[1mLayer (type)                   \u001b[0m\u001b[1m \u001b[0m┃\u001b[1m \u001b[0m\u001b[1mOutput Shape          \u001b[0m\u001b[1m \u001b[0m┃\u001b[1m \u001b[0m\u001b[1m      Param #\u001b[0m\u001b[1m \u001b[0m┃\n",
              "┡━━━━━━━━━━━━━━━━━━━━━━━━━━━━━━━━━╇━━━━━━━━━━━━━━━━━━━━━━━━╇━━━━━━━━━━━━━━━┩\n",
              "│ dense_11 (\u001b[38;5;33mDense\u001b[0m)                │ (\u001b[38;5;45mNone\u001b[0m, \u001b[38;5;34m64\u001b[0m)             │        \u001b[38;5;34m35,968\u001b[0m │\n",
              "├─────────────────────────────────┼────────────────────────┼───────────────┤\n",
              "│ dropout (\u001b[38;5;33mDropout\u001b[0m)               │ (\u001b[38;5;45mNone\u001b[0m, \u001b[38;5;34m64\u001b[0m)             │             \u001b[38;5;34m0\u001b[0m │\n",
              "├─────────────────────────────────┼────────────────────────┼───────────────┤\n",
              "│ dense_12 (\u001b[38;5;33mDense\u001b[0m)                │ (\u001b[38;5;45mNone\u001b[0m, \u001b[38;5;34m32\u001b[0m)             │         \u001b[38;5;34m2,080\u001b[0m │\n",
              "├─────────────────────────────────┼────────────────────────┼───────────────┤\n",
              "│ dense_13 (\u001b[38;5;33mDense\u001b[0m)                │ (\u001b[38;5;45mNone\u001b[0m, \u001b[38;5;34m16\u001b[0m)             │           \u001b[38;5;34m528\u001b[0m │\n",
              "├─────────────────────────────────┼────────────────────────┼───────────────┤\n",
              "│ dense_14 (\u001b[38;5;33mDense\u001b[0m)                │ (\u001b[38;5;45mNone\u001b[0m, \u001b[38;5;34m6\u001b[0m)              │           \u001b[38;5;34m102\u001b[0m │\n",
              "└─────────────────────────────────┴────────────────────────┴───────────────┘\n"
            ],
            "text/html": [
              "<pre style=\"white-space:pre;overflow-x:auto;line-height:normal;font-family:Menlo,'DejaVu Sans Mono',consolas,'Courier New',monospace\">┏━━━━━━━━━━━━━━━━━━━━━━━━━━━━━━━━━┳━━━━━━━━━━━━━━━━━━━━━━━━┳━━━━━━━━━━━━━━━┓\n",
              "┃<span style=\"font-weight: bold\"> Layer (type)                    </span>┃<span style=\"font-weight: bold\"> Output Shape           </span>┃<span style=\"font-weight: bold\">       Param # </span>┃\n",
              "┡━━━━━━━━━━━━━━━━━━━━━━━━━━━━━━━━━╇━━━━━━━━━━━━━━━━━━━━━━━━╇━━━━━━━━━━━━━━━┩\n",
              "│ dense_11 (<span style=\"color: #0087ff; text-decoration-color: #0087ff\">Dense</span>)                │ (<span style=\"color: #00d7ff; text-decoration-color: #00d7ff\">None</span>, <span style=\"color: #00af00; text-decoration-color: #00af00\">64</span>)             │        <span style=\"color: #00af00; text-decoration-color: #00af00\">35,968</span> │\n",
              "├─────────────────────────────────┼────────────────────────┼───────────────┤\n",
              "│ dropout (<span style=\"color: #0087ff; text-decoration-color: #0087ff\">Dropout</span>)               │ (<span style=\"color: #00d7ff; text-decoration-color: #00d7ff\">None</span>, <span style=\"color: #00af00; text-decoration-color: #00af00\">64</span>)             │             <span style=\"color: #00af00; text-decoration-color: #00af00\">0</span> │\n",
              "├─────────────────────────────────┼────────────────────────┼───────────────┤\n",
              "│ dense_12 (<span style=\"color: #0087ff; text-decoration-color: #0087ff\">Dense</span>)                │ (<span style=\"color: #00d7ff; text-decoration-color: #00d7ff\">None</span>, <span style=\"color: #00af00; text-decoration-color: #00af00\">32</span>)             │         <span style=\"color: #00af00; text-decoration-color: #00af00\">2,080</span> │\n",
              "├─────────────────────────────────┼────────────────────────┼───────────────┤\n",
              "│ dense_13 (<span style=\"color: #0087ff; text-decoration-color: #0087ff\">Dense</span>)                │ (<span style=\"color: #00d7ff; text-decoration-color: #00d7ff\">None</span>, <span style=\"color: #00af00; text-decoration-color: #00af00\">16</span>)             │           <span style=\"color: #00af00; text-decoration-color: #00af00\">528</span> │\n",
              "├─────────────────────────────────┼────────────────────────┼───────────────┤\n",
              "│ dense_14 (<span style=\"color: #0087ff; text-decoration-color: #0087ff\">Dense</span>)                │ (<span style=\"color: #00d7ff; text-decoration-color: #00d7ff\">None</span>, <span style=\"color: #00af00; text-decoration-color: #00af00\">6</span>)              │           <span style=\"color: #00af00; text-decoration-color: #00af00\">102</span> │\n",
              "└─────────────────────────────────┴────────────────────────┴───────────────┘\n",
              "</pre>\n"
            ]
          },
          "metadata": {}
        },
        {
          "output_type": "display_data",
          "data": {
            "text/plain": [
              "\u001b[1m Total params: \u001b[0m\u001b[38;5;34m38,678\u001b[0m (151.09 KB)\n"
            ],
            "text/html": [
              "<pre style=\"white-space:pre;overflow-x:auto;line-height:normal;font-family:Menlo,'DejaVu Sans Mono',consolas,'Courier New',monospace\"><span style=\"font-weight: bold\"> Total params: </span><span style=\"color: #00af00; text-decoration-color: #00af00\">38,678</span> (151.09 KB)\n",
              "</pre>\n"
            ]
          },
          "metadata": {}
        },
        {
          "output_type": "display_data",
          "data": {
            "text/plain": [
              "\u001b[1m Trainable params: \u001b[0m\u001b[38;5;34m38,678\u001b[0m (151.09 KB)\n"
            ],
            "text/html": [
              "<pre style=\"white-space:pre;overflow-x:auto;line-height:normal;font-family:Menlo,'DejaVu Sans Mono',consolas,'Courier New',monospace\"><span style=\"font-weight: bold\"> Trainable params: </span><span style=\"color: #00af00; text-decoration-color: #00af00\">38,678</span> (151.09 KB)\n",
              "</pre>\n"
            ]
          },
          "metadata": {}
        },
        {
          "output_type": "display_data",
          "data": {
            "text/plain": [
              "\u001b[1m Non-trainable params: \u001b[0m\u001b[38;5;34m0\u001b[0m (0.00 B)\n"
            ],
            "text/html": [
              "<pre style=\"white-space:pre;overflow-x:auto;line-height:normal;font-family:Menlo,'DejaVu Sans Mono',consolas,'Courier New',monospace\"><span style=\"font-weight: bold\"> Non-trainable params: </span><span style=\"color: #00af00; text-decoration-color: #00af00\">0</span> (0.00 B)\n",
              "</pre>\n"
            ]
          },
          "metadata": {}
        },
        {
          "output_type": "stream",
          "name": "stdout",
          "text": [
            "Epoch 1/10\n",
            "\u001b[1m147/147\u001b[0m \u001b[32m━━━━━━━━━━━━━━━━━━━━\u001b[0m\u001b[37m\u001b[0m \u001b[1m3s\u001b[0m 7ms/step - accuracy: 0.3717 - loss: 1.4481 - val_accuracy: 0.7298 - val_loss: 0.6974\n",
            "Epoch 2/10\n",
            "\u001b[1m147/147\u001b[0m \u001b[32m━━━━━━━━━━━━━━━━━━━━\u001b[0m\u001b[37m\u001b[0m \u001b[1m1s\u001b[0m 5ms/step - accuracy: 0.6574 - loss: 0.7539 - val_accuracy: 0.8428 - val_loss: 0.4740\n",
            "Epoch 3/10\n",
            "\u001b[1m147/147\u001b[0m \u001b[32m━━━━━━━━━━━━━━━━━━━━\u001b[0m\u001b[37m\u001b[0m \u001b[1m1s\u001b[0m 3ms/step - accuracy: 0.7571 - loss: 0.5568 - val_accuracy: 0.8539 - val_loss: 0.3526\n",
            "Epoch 4/10\n",
            "\u001b[1m147/147\u001b[0m \u001b[32m━━━━━━━━━━━━━━━━━━━━\u001b[0m\u001b[37m\u001b[0m \u001b[1m1s\u001b[0m 3ms/step - accuracy: 0.8211 - loss: 0.4272 - val_accuracy: 0.8879 - val_loss: 0.2885\n",
            "Epoch 5/10\n",
            "\u001b[1m147/147\u001b[0m \u001b[32m━━━━━━━━━━━━━━━━━━━━\u001b[0m\u001b[37m\u001b[0m \u001b[1m0s\u001b[0m 3ms/step - accuracy: 0.8504 - loss: 0.3689 - val_accuracy: 0.9014 - val_loss: 0.2727\n",
            "Epoch 6/10\n",
            "\u001b[1m147/147\u001b[0m \u001b[32m━━━━━━━━━━━━━━━━━━━━\u001b[0m\u001b[37m\u001b[0m \u001b[1m1s\u001b[0m 3ms/step - accuracy: 0.8713 - loss: 0.3254 - val_accuracy: 0.9303 - val_loss: 0.1962\n",
            "Epoch 7/10\n",
            "\u001b[1m147/147\u001b[0m \u001b[32m━━━━━━━━━━━━━━━━━━━━\u001b[0m\u001b[37m\u001b[0m \u001b[1m1s\u001b[0m 3ms/step - accuracy: 0.8870 - loss: 0.2970 - val_accuracy: 0.9193 - val_loss: 0.2039\n",
            "Epoch 8/10\n",
            "\u001b[1m147/147\u001b[0m \u001b[32m━━━━━━━━━━━━━━━━━━━━\u001b[0m\u001b[37m\u001b[0m \u001b[1m1s\u001b[0m 3ms/step - accuracy: 0.8859 - loss: 0.2808 - val_accuracy: 0.9448 - val_loss: 0.1624\n",
            "Epoch 9/10\n",
            "\u001b[1m147/147\u001b[0m \u001b[32m━━━━━━━━━━━━━━━━━━━━\u001b[0m\u001b[37m\u001b[0m \u001b[1m1s\u001b[0m 3ms/step - accuracy: 0.9016 - loss: 0.2459 - val_accuracy: 0.9354 - val_loss: 0.1585\n",
            "Epoch 10/10\n",
            "\u001b[1m147/147\u001b[0m \u001b[32m━━━━━━━━━━━━━━━━━━━━\u001b[0m\u001b[37m\u001b[0m \u001b[1m0s\u001b[0m 3ms/step - accuracy: 0.9105 - loss: 0.2287 - val_accuracy: 0.9533 - val_loss: 0.1486\n"
          ]
        }
      ]
    },
    {
      "cell_type": "code",
      "execution_count": null,
      "metadata": {
        "id": "5LviYQi-0AH9",
        "colab": {
          "base_uri": "https://localhost:8080/",
          "height": 471
        },
        "outputId": "3d92f426-ac3c-45f1-d91b-f33a7d02cf50"
      },
      "outputs": [
        {
          "output_type": "display_data",
          "data": {
            "text/plain": [
              "<Figure size 1000x600 with 1 Axes>"
            ],
            "image/png": "[encoded data removed]"
          },
          "metadata": {}
        }
      ],
      "source": [
        "# 학습곡선\n",
        "dl_history_plot(hist.history)"
      ]
    },
    {
      "cell_type": "code",
      "execution_count": null,
      "metadata": {
        "id": "D91OxYLW0AH9",
        "colab": {
          "base_uri": "https://localhost:8080/"
        },
        "outputId": "ecfb4730-126b-459c-d55a-c2763495101a"
      },
      "outputs": [
        {
          "output_type": "stream",
          "name": "stdout",
          "text": [
            "\u001b[1m46/46\u001b[0m \u001b[32m━━━━━━━━━━━━━━━━━━━━\u001b[0m\u001b[37m\u001b[0m \u001b[1m0s\u001b[0m 2ms/step - accuracy: 0.9442 - loss: 0.1521\n",
            "Test accuracy: 0.9428960084915161\n"
          ]
        }
      ],
      "source": [
        "# 예측 및 평가\n",
        "test_loss, test_acc = models[3].evaluate(X_test, y_test)\n",
        "print('Test accuracy:', test_acc)\n",
        "\n",
        "# 테스트 정확도 평가"
      ]
    },
    {
      "cell_type": "code",
      "source": [
        "sum(hist.history['accuracy']) / 10"
      ],
      "metadata": {
        "colab": {
          "base_uri": "https://localhost:8080/"
        },
        "id": "gImMWLkSt-h5",
        "outputId": "1eee61c4-47e8-4de8-e4d2-363c2b5386ae"
      },
      "execution_count": null,
      "outputs": [
        {
          "output_type": "execute_result",
          "data": {
            "text/plain": [
              "0.8105017066001892"
            ]
          },
          "metadata": {},
          "execution_count": 48
        }
      ]
    },
    {
      "cell_type": "markdown",
      "metadata": {
        "id": "_OTuXbgHzt4H"
      },
      "source": [
        "## 4.성능비교"
      ]
    },
    {
      "cell_type": "markdown",
      "metadata": {
        "id": "2TjwzbyYzt4I"
      },
      "source": [
        "* 세부 요구사항\n",
        "    - test 데이터에 대한 전처리\n",
        "    - 각 모델에 대해서 test 데이터로 성능 측정"
      ]
    },
    {
      "cell_type": "code",
      "execution_count": null,
      "metadata": {
        "id": "3Y10D1FsiNEt"
      },
      "outputs": [],
      "source": [
        "#전체 데이터 불러오기(test)\n",
        "test_df = pd.read_csv(path + '/data01_test.csv')\n",
        "\n",
        "# subject 삭제\n",
        "test_df.drop(['subject'], axis=1, inplace=True)\n",
        "\n",
        "# x, y 분할\n",
        "X_test = test_df.drop('Activity', axis=1)\n",
        "y_test = test_df['Activity']\n",
        "\n",
        "# x : 스케일링 적용\n",
        "X_test = scaler.transform(X_test)\n",
        "\n",
        "# y : 정수인코딩 적용\n",
        "y_test = le.transform(y_test)         # 성능 비교를 위한 작업을 수행합니다."
      ]
    },
    {
      "cell_type": "code",
      "execution_count": null,
      "metadata": {
        "id": "ciIQPNqriNBe",
        "colab": {
          "base_uri": "https://localhost:8080/"
        },
        "outputId": "f7d9e897-c793-4668-f56c-9d629ee91c4b"
      },
      "outputs": [
        {
          "output_type": "stream",
          "name": "stdout",
          "text": [
            "\u001b[1m46/46\u001b[0m \u001b[32m━━━━━━━━━━━━━━━━━━━━\u001b[0m\u001b[37m\u001b[0m \u001b[1m0s\u001b[0m 2ms/step - accuracy: 0.9020 - loss: 0.3489\n",
            "Test accuracy: 0.9041468501091003\n",
            "\u001b[1m46/46\u001b[0m \u001b[32m━━━━━━━━━━━━━━━━━━━━\u001b[0m\u001b[37m\u001b[0m \u001b[1m0s\u001b[0m 2ms/step - accuracy: 0.9266 - loss: 0.1742\n",
            "Test accuracy: 0.9252209663391113\n",
            "\u001b[1m46/46\u001b[0m \u001b[32m━━━━━━━━━━━━━━━━━━━━\u001b[0m\u001b[37m\u001b[0m \u001b[1m0s\u001b[0m 2ms/step - accuracy: 0.9709 - loss: 0.0933\n",
            "Test accuracy: 0.96872878074646\n",
            "\u001b[1m46/46\u001b[0m \u001b[32m━━━━━━━━━━━━━━━━━━━━\u001b[0m\u001b[37m\u001b[0m \u001b[1m0s\u001b[0m 2ms/step - accuracy: 0.9442 - loss: 0.1521\n",
            "Test accuracy: 0.9428960084915161\n"
          ]
        }
      ],
      "source": [
        "# test 데이터에 대한 성능 측정\n",
        "for model in models:\n",
        "  test_loss, test_acc = model.evaluate(X_test, y_test)\n",
        "  print('Test accuracy:', test_acc)"
      ]
    },
    {
      "cell_type": "markdown",
      "metadata": {
        "id": "tG3jivURQ3JQ"
      },
      "source": [
        "#### 고생하셨습니다! 이제 단계적 모델링을 해봅시다."
      ]
    }
  ],
  "metadata": {
    "colab": {
      "provenance": []
    },
    "kernelspec": {
      "display_name": "Python 3",
      "name": "python3"
    },
    "language_info": {
      "name": "python"
    }
  },
  "nbformat": 4,
  "nbformat_minor": 0
}